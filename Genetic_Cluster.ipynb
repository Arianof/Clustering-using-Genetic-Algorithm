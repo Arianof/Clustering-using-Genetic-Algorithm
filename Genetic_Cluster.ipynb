{
 "cells": [
  {
   "cell_type": "code",
   "execution_count": 1,
   "metadata": {
    "collapsed": true
   },
   "outputs": [],
   "source": [
    "import numpy as np\n",
    "import pandas as pd"
   ]
  },
  {
   "cell_type": "code",
   "execution_count": 244,
   "outputs": [
    {
     "data": {
      "text/plain": "     sepal.length  sepal.width  petal.length  petal.width    variety\n0             5.1          3.5           1.4          0.2     Setosa\n1             4.9          3.0           1.4          0.2     Setosa\n2             4.7          3.2           1.3          0.2     Setosa\n3             4.6          3.1           1.5          0.2     Setosa\n4             5.0          3.6           1.4          0.2     Setosa\n..            ...          ...           ...          ...        ...\n145           6.7          3.0           5.2          2.3  Virginica\n146           6.3          2.5           5.0          1.9  Virginica\n147           6.5          3.0           5.2          2.0  Virginica\n148           6.2          3.4           5.4          2.3  Virginica\n149           5.9          3.0           5.1          1.8  Virginica\n\n[150 rows x 5 columns]",
      "text/html": "<div>\n<style scoped>\n    .dataframe tbody tr th:only-of-type {\n        vertical-align: middle;\n    }\n\n    .dataframe tbody tr th {\n        vertical-align: top;\n    }\n\n    .dataframe thead th {\n        text-align: right;\n    }\n</style>\n<table border=\"1\" class=\"dataframe\">\n  <thead>\n    <tr style=\"text-align: right;\">\n      <th></th>\n      <th>sepal.length</th>\n      <th>sepal.width</th>\n      <th>petal.length</th>\n      <th>petal.width</th>\n      <th>variety</th>\n    </tr>\n  </thead>\n  <tbody>\n    <tr>\n      <th>0</th>\n      <td>5.1</td>\n      <td>3.5</td>\n      <td>1.4</td>\n      <td>0.2</td>\n      <td>Setosa</td>\n    </tr>\n    <tr>\n      <th>1</th>\n      <td>4.9</td>\n      <td>3.0</td>\n      <td>1.4</td>\n      <td>0.2</td>\n      <td>Setosa</td>\n    </tr>\n    <tr>\n      <th>2</th>\n      <td>4.7</td>\n      <td>3.2</td>\n      <td>1.3</td>\n      <td>0.2</td>\n      <td>Setosa</td>\n    </tr>\n    <tr>\n      <th>3</th>\n      <td>4.6</td>\n      <td>3.1</td>\n      <td>1.5</td>\n      <td>0.2</td>\n      <td>Setosa</td>\n    </tr>\n    <tr>\n      <th>4</th>\n      <td>5.0</td>\n      <td>3.6</td>\n      <td>1.4</td>\n      <td>0.2</td>\n      <td>Setosa</td>\n    </tr>\n    <tr>\n      <th>...</th>\n      <td>...</td>\n      <td>...</td>\n      <td>...</td>\n      <td>...</td>\n      <td>...</td>\n    </tr>\n    <tr>\n      <th>145</th>\n      <td>6.7</td>\n      <td>3.0</td>\n      <td>5.2</td>\n      <td>2.3</td>\n      <td>Virginica</td>\n    </tr>\n    <tr>\n      <th>146</th>\n      <td>6.3</td>\n      <td>2.5</td>\n      <td>5.0</td>\n      <td>1.9</td>\n      <td>Virginica</td>\n    </tr>\n    <tr>\n      <th>147</th>\n      <td>6.5</td>\n      <td>3.0</td>\n      <td>5.2</td>\n      <td>2.0</td>\n      <td>Virginica</td>\n    </tr>\n    <tr>\n      <th>148</th>\n      <td>6.2</td>\n      <td>3.4</td>\n      <td>5.4</td>\n      <td>2.3</td>\n      <td>Virginica</td>\n    </tr>\n    <tr>\n      <th>149</th>\n      <td>5.9</td>\n      <td>3.0</td>\n      <td>5.1</td>\n      <td>1.8</td>\n      <td>Virginica</td>\n    </tr>\n  </tbody>\n</table>\n<p>150 rows × 5 columns</p>\n</div>"
     },
     "execution_count": 244,
     "metadata": {},
     "output_type": "execute_result"
    }
   ],
   "source": [
    "df = pd.read_csv(\"./archive/iris.csv\")\n",
    "df"
   ],
   "metadata": {
    "collapsed": false
   }
  },
  {
   "cell_type": "code",
   "execution_count": 245,
   "outputs": [
    {
     "data": {
      "text/plain": "       sepal.length  sepal.width  petal.length  petal.width\ncount    150.000000   150.000000    150.000000   150.000000\nmean       5.843333     3.057333      3.758000     1.199333\nstd        0.828066     0.435866      1.765298     0.762238\nmin        4.300000     2.000000      1.000000     0.100000\n25%        5.100000     2.800000      1.600000     0.300000\n50%        5.800000     3.000000      4.350000     1.300000\n75%        6.400000     3.300000      5.100000     1.800000\nmax        7.900000     4.400000      6.900000     2.500000",
      "text/html": "<div>\n<style scoped>\n    .dataframe tbody tr th:only-of-type {\n        vertical-align: middle;\n    }\n\n    .dataframe tbody tr th {\n        vertical-align: top;\n    }\n\n    .dataframe thead th {\n        text-align: right;\n    }\n</style>\n<table border=\"1\" class=\"dataframe\">\n  <thead>\n    <tr style=\"text-align: right;\">\n      <th></th>\n      <th>sepal.length</th>\n      <th>sepal.width</th>\n      <th>petal.length</th>\n      <th>petal.width</th>\n    </tr>\n  </thead>\n  <tbody>\n    <tr>\n      <th>count</th>\n      <td>150.000000</td>\n      <td>150.000000</td>\n      <td>150.000000</td>\n      <td>150.000000</td>\n    </tr>\n    <tr>\n      <th>mean</th>\n      <td>5.843333</td>\n      <td>3.057333</td>\n      <td>3.758000</td>\n      <td>1.199333</td>\n    </tr>\n    <tr>\n      <th>std</th>\n      <td>0.828066</td>\n      <td>0.435866</td>\n      <td>1.765298</td>\n      <td>0.762238</td>\n    </tr>\n    <tr>\n      <th>min</th>\n      <td>4.300000</td>\n      <td>2.000000</td>\n      <td>1.000000</td>\n      <td>0.100000</td>\n    </tr>\n    <tr>\n      <th>25%</th>\n      <td>5.100000</td>\n      <td>2.800000</td>\n      <td>1.600000</td>\n      <td>0.300000</td>\n    </tr>\n    <tr>\n      <th>50%</th>\n      <td>5.800000</td>\n      <td>3.000000</td>\n      <td>4.350000</td>\n      <td>1.300000</td>\n    </tr>\n    <tr>\n      <th>75%</th>\n      <td>6.400000</td>\n      <td>3.300000</td>\n      <td>5.100000</td>\n      <td>1.800000</td>\n    </tr>\n    <tr>\n      <th>max</th>\n      <td>7.900000</td>\n      <td>4.400000</td>\n      <td>6.900000</td>\n      <td>2.500000</td>\n    </tr>\n  </tbody>\n</table>\n</div>"
     },
     "execution_count": 245,
     "metadata": {},
     "output_type": "execute_result"
    }
   ],
   "source": [
    "import copy\n",
    "variety = df[\"variety\"]\n",
    "new_df = copy.deepcopy(df)\n",
    "df = df.drop(\"variety\", axis=1)\n",
    "df.describe()"
   ],
   "metadata": {
    "collapsed": false
   }
  },
  {
   "cell_type": "code",
   "execution_count": 246,
   "outputs": [],
   "source": [
    "def euclidean_distance(X, Y):\n",
    "    return np.sqrt(np.sum(np.power(X - Y, 2), axis=1))"
   ],
   "metadata": {
    "collapsed": false
   }
  },
  {
   "cell_type": "code",
   "execution_count": 247,
   "outputs": [],
   "source": [
    "df = df.to_numpy()"
   ],
   "metadata": {
    "collapsed": false
   }
  },
  {
   "cell_type": "code",
   "execution_count": 248,
   "outputs": [
    {
     "name": "stdout",
     "output_type": "stream",
     "text": [
      "[0.         0.53851648 0.50990195 0.64807407 0.14142136 0.6164414\n",
      " 0.51961524 0.17320508 0.92195445 0.46904158 0.37416574 0.37416574\n",
      " 0.59160798 0.99498744 0.88317609 1.1045361  0.54772256 0.1\n",
      " 0.74161985 0.33166248 0.43588989 0.3        0.64807407 0.46904158\n",
      " 0.59160798 0.54772256 0.31622777 0.14142136 0.14142136 0.53851648\n",
      " 0.53851648 0.38729833 0.6244998  0.80622577 0.45825757 0.37416574\n",
      " 0.41231056 0.24494897 0.8660254  0.14142136 0.17320508 1.34907376\n",
      " 0.76811457 0.45825757 0.6164414  0.59160798 0.36055513 0.58309519\n",
      " 0.3        0.2236068  4.00374824 3.61662826 4.16413256 3.09354166\n",
      " 3.79209705 3.41613817 3.78549865 2.34520788 3.74966665 2.88790582\n",
      " 2.70370117 3.22800248 3.14642654 3.7        2.58069758 3.62767143\n",
      " 3.43511281 3.00998339 3.76828874 2.88270706 3.85356977 3.0757113\n",
      " 4.04722127 3.65786823 3.41613817 3.59722115 4.04722127 4.24499706\n",
      " 3.53128872 2.49399278 2.81780056 2.70185122 2.89482297 4.13521463\n",
      " 3.41174442 3.51994318 3.91152144 3.6180105  3.         3.02158899\n",
      " 3.31209903 3.59583092 3.00998339 2.38746728 3.15277655 3.07408523\n",
      " 3.12569992 3.34514574 2.0904545  3.05777697 5.2848841  4.20832508\n",
      " 5.30188646 4.69041576 5.05667875 6.09507998 3.591657   5.63648827\n",
      " 5.04777179 5.63914887 4.35660418 4.51995575 4.85386444 4.19046537\n",
      " 4.41701257 4.6260134  4.64542786 6.2401923  6.49846136 4.14125585\n",
      " 5.12152321 4.02864742 6.21128006 4.10974452 4.96990946 5.31224999\n",
      " 3.97743636 4.00749298 4.84045452 5.09705797 5.54616985 6.01414998\n",
      " 4.88057374 4.16052881 4.57055795 5.78878226 4.89182992 4.60651712\n",
      " 3.89615195 4.79687398 5.01996016 4.63680925 4.20832508 5.25737577\n",
      " 5.13614642 4.65403051 4.27668096 4.45982062 4.65080638 4.14004831]\n"
     ]
    }
   ],
   "source": [
    "d = euclidean_distance(df, df[0])\n",
    "# d = euclidean_distance(data[0], data)\n",
    "print(d)"
   ],
   "metadata": {
    "collapsed": false
   }
  },
  {
   "cell_type": "code",
   "execution_count": 249,
   "outputs": [],
   "source": [
    "def cluster_data(solutions, solution_idx):\n",
    "    solution = solutions[solution_idx]\n",
    "    feature_vector_length = df.shape[1]\n",
    "    cluster_centers = []\n",
    "    all_clusters_dists = []\n",
    "    clusters = []\n",
    "    clusters_sum_dist = []\n",
    "    num_cluster = int(len(solution) / feature_vector_length)\n",
    "    for clust_idx in range(num_cluster):\n",
    "        cluster_centers.append(solution[feature_vector_length*clust_idx:feature_vector_length*(clust_idx+1)])\n",
    "        cluster_center_dists = euclidean_distance(df, cluster_centers[clust_idx])\n",
    "        all_clusters_dists.append(np.array(cluster_center_dists))\n",
    "    cluster_centers = np.array(cluster_centers)\n",
    "    all_clusters_dists = np.array(all_clusters_dists)\n",
    "    cluster_indices = np.argmin(all_clusters_dists, axis=0)\n",
    "    for clust_idx in range(num_cluster):\n",
    "        clusters.append(np.where(cluster_indices == clust_idx))\n",
    "        if len(clusters[clust_idx]) == 0:\n",
    "            clusters_sum_dist.append(0)\n",
    "        else:\n",
    "            clusters_sum_dist.append(np.sum(all_clusters_dists[clust_idx, clusters[clust_idx]]))\n",
    "    clusters_sum_dist = np.array(clusters_sum_dist)\n",
    "    return cluster_centers, all_clusters_dists, clusters, clusters_sum_dist"
   ],
   "metadata": {
    "collapsed": false
   }
  },
  {
   "cell_type": "code",
   "execution_count": 250,
   "outputs": [],
   "source": [
    "def fitness_func(solutions, solution_idx):\n",
    "    _, _, _, clusters_sum_dist = cluster_data(solutions, solution_idx)\n",
    "    fitness = 1.0 / (np.sum(clusters_sum_dist) + 0.00000001)\n",
    "    return fitness"
   ],
   "metadata": {
    "collapsed": false
   }
  },
  {
   "cell_type": "code",
   "execution_count": 304,
   "outputs": [],
   "source": [
    "##initial population\n",
    "import random\n",
    "population = []\n",
    "def initial_population():\n",
    "    feature_vector_length = df.shape[1]\n",
    "    ##population has 100 members\n",
    "    for i in range(200):\n",
    "        ##default number of clusters is 3\n",
    "        Chromosome = []\n",
    "        for j in range(3):\n",
    "            gen1 = float('%0.5f' % random.uniform(0, 8))\n",
    "            gen2 = float('%0.5f' % random.uniform(2, 5))\n",
    "            gen3 = float('%0.5f' % random.uniform(1, 7))\n",
    "            gen4 = float('%0.5f' % random.uniform(0, 0.5))\n",
    "            Chromosome.append(gen1)\n",
    "            Chromosome.append(gen2)\n",
    "            Chromosome.append(gen3)\n",
    "            Chromosome.append(gen4)\n",
    "        population.append(Chromosome)\n",
    "    return population"
   ],
   "metadata": {
    "collapsed": false
   }
  },
  {
   "cell_type": "code",
   "execution_count": 305,
   "outputs": [],
   "source": [
    "##choose parents\n",
    "##just solutions with fitness score more than 0.0025 are accepted\n",
    "def selection(population):\n",
    "    parents = []\n",
    "    for i in range(len(population)):\n",
    "        fit = fitness_func(population, i)\n",
    "        if fit >= 0.0025:\n",
    "            parents.append(population[i])\n",
    "    return parents"
   ],
   "metadata": {
    "collapsed": false
   }
  },
  {
   "cell_type": "code",
   "execution_count": 306,
   "outputs": [],
   "source": [
    "def doCrossover(parents):\n",
    "    index_parent1 = random.randint(0, len(parents)- 1)\n",
    "    index_parent2 = random.randint(0, len(parents) - 1)\n",
    "    parent1 = parents[index_parent1]\n",
    "    parent2 = parents[index_parent2]\n",
    "    cut = random.randint(1, 2)\n",
    "    child1 = np.concatenate((parent1[0:cut * 4], parent2[cut * 4 : 12]), axis=0)\n",
    "    child2 = np.concatenate((parent2[0:cut * 4], parent1[cut * 4 : 12]), axis=0)\n",
    "    fit_child1 = fitness_func([child1], 0)\n",
    "    fit_child2 = fitness_func([child2], 0)\n",
    "    if fit_child1 >= 0.0035:\n",
    "        parents.append(child1)\n",
    "    if fit_child2 >= 0.0035:\n",
    "        parents.append(child2)"
   ],
   "metadata": {
    "collapsed": false
   }
  },
  {
   "cell_type": "code",
   "execution_count": 307,
   "outputs": [],
   "source": [
    "def crossover(parents):\n",
    "    for i in range(100):\n",
    "        doCrossover(parents)\n"
   ],
   "metadata": {
    "collapsed": false
   }
  },
  {
   "cell_type": "code",
   "execution_count": 308,
   "outputs": [],
   "source": [
    "def doMutation(parents):\n",
    "    index_parent = random.randint(0, len(parents)- 1)\n",
    "    cut = random.randint(0, 2)\n",
    "    feature_to_mute = random.randint(0, 3)\n",
    "    parent_to_mute = parents[index_parent]\n",
    "    if feature_to_mute == 0:\n",
    "        new_feature_val = float('%0.5f' % random.uniform(0, 8))\n",
    "    elif feature_to_mute == 1:\n",
    "        new_feature_val = float('%0.5f' % random.uniform(2, 5))\n",
    "    elif feature_to_mute == 2:\n",
    "        new_feature_val = float('%0.5f' % random.uniform(1, 7))\n",
    "    elif feature_to_mute == 3:\n",
    "        new_feature_val = float('%0.5f' % random.uniform(0, 0.5))\n",
    "    else:\n",
    "        new_feature_val = float('%0.5f' % random.uniform(2, 5))\n",
    "    parent_to_mute[cut * 4 + feature_to_mute] = new_feature_val\n"
   ],
   "metadata": {
    "collapsed": false
   }
  },
  {
   "cell_type": "code",
   "execution_count": 309,
   "outputs": [],
   "source": [
    "def mutation(parents):\n",
    "    for i in range(20):\n",
    "        doMutation(parents)"
   ],
   "metadata": {
    "collapsed": false
   }
  },
  {
   "cell_type": "code",
   "execution_count": 310,
   "outputs": [],
   "source": [
    "result = {}\n",
    "for i in range(150):\n",
    "    population = initial_population()\n",
    "    parents = selection(population)\n",
    "    crossover(parents)\n",
    "    mutation(parents)\n",
    "    fits = []\n",
    "    for j in range(len(parents)):\n",
    "        fit = fitness_func(parents, j)\n",
    "        fits.append(fit)\n",
    "    fit_max = max(fits)\n",
    "    idx = fits.index(fit_max)\n",
    "    cluster_centers, all_clusters_dists, clusters, clusters_sum_dist = cluster_data(parents, idx)\n",
    "    result.update({fit_max: [idx, cluster_centers, all_clusters_dists, clusters, clusters_sum_dist]})\n",
    "    population.clear()\n"
   ],
   "metadata": {
    "collapsed": false
   }
  },
  {
   "cell_type": "code",
   "execution_count": 311,
   "outputs": [
    {
     "name": "stdout",
     "output_type": "stream",
     "text": [
      "best fitness score:  0.004808424555784932\n",
      "index of best result in parents population: 159\n"
     ]
    }
   ],
   "source": [
    "##after 100 generation, best result is:\n",
    "max_key = next(iter(result))\n",
    "for key in result:\n",
    "    if result[key] > result[max_key]:\n",
    "        max_key = key\n",
    "print(\"best fitness score: \",max_key)\n",
    "print(\"index of best result in parents population:\"  , result[max_key][0])"
   ],
   "metadata": {
    "collapsed": false
   }
  },
  {
   "cell_type": "code",
   "execution_count": 312,
   "outputs": [
    {
     "name": "stdout",
     "output_type": "stream",
     "text": [
      "cluster centers are:\n"
     ]
    },
    {
     "data": {
      "text/plain": "array([[5.36283, 3.62483, 1.29194, 0.3009 ],\n       [6.25444, 2.67311, 4.40537, 0.3172 ],\n       [6.52493, 4.98671, 6.61971, 0.03817]])"
     },
     "execution_count": 312,
     "metadata": {},
     "output_type": "execute_result"
    }
   ],
   "source": [
    "cluster_centers = np.array(result[max_key][1])\n",
    "print(\"cluster centers are:\")\n",
    "cluster_centers"
   ],
   "metadata": {
    "collapsed": false
   }
  },
  {
   "cell_type": "code",
   "execution_count": 313,
   "outputs": [
    {
     "name": "stdout",
     "output_type": "stream",
     "text": [
      "distance of each datapoint from centroids:\n"
     ]
    },
    {
     "data": {
      "text/plain": "array([[0.32637388, 0.7915061 , 0.79376943, 0.954372  , 0.39258109,\n        0.5034222 , 0.80258078, 0.48545228, 1.21419846, 0.75717099,\n        0.24597136, 0.68731937, 0.87133685, 1.26381245, 0.59203371,\n        0.87617459, 0.29493374, 0.31038671, 0.55756785, 0.37822468,\n        0.47814633, 0.35754708, 0.82336864, 0.61704774, 0.86443271,\n        0.79192166, 0.53564532, 0.30913737, 0.31451536, 0.85141407,\n        0.83504845, 0.32409861, 0.57961186, 0.609503  , 0.73697212,\n        0.5751173 , 0.21129106, 0.51659066, 1.15225861, 0.41605037,\n        0.38378889, 1.58104899, 1.05724544, 0.57583844, 0.69233078,\n        0.84786079, 0.45259906, 0.88557773, 0.25113325, 0.50893802,\n        3.96026513, 3.60356655, 4.13452245, 3.17895894, 3.78874675,\n        3.47618727, 3.77972696, 2.49709149, 3.74131393, 2.98191581,\n        2.85236532, 3.25171   , 3.20288244, 3.72715601, 2.62811147,\n        3.59604337, 3.48943433, 3.06926211, 3.8026943 , 2.96007262,\n        3.87592801, 3.0912059 , 4.07424446, 3.69418704, 3.41287649,\n        3.57617951, 4.03240721, 4.22914009, 3.55820937, 2.5550401 ,\n        2.90653572, 2.79401466, 2.94224165, 4.17735298, 3.48156343,\n        3.52644919, 3.88795369, 3.64577837, 3.05451533, 3.10094307,\n        3.39669102, 3.61733519, 3.06322769, 2.53137629, 3.21971643,\n        3.12558633, 3.17711755, 3.35750769, 2.21141401, 3.11085678,\n        5.29014857, 4.25498178, 5.28007101, 4.71278558, 5.06090446,\n        6.06692706, 3.70521037, 5.62191888, 5.06193361, 5.59725753,\n        4.34302866, 4.53350834, 4.83739598, 4.24447593, 4.44735921,\n        4.6170497 , 4.65173494, 6.19247462, 6.47760588, 4.19805621,\n        5.09615207, 4.07941563, 6.18682163, 4.12298386, 4.95593502,\n        5.28855405, 3.99186472, 4.02482669, 4.8530617 , 5.07699438,\n        5.52313026, 5.95374957, 4.89101502, 4.18303645, 4.62180678,\n        5.74165637, 4.88819373, 4.61586806, 3.91793108, 4.76982766,\n        5.00290635, 4.59739708, 4.25498178, 5.24180846, 5.11474065,\n        4.63117371, 4.29538821, 4.45459784, 4.65015698, 4.17463602],\n       [3.32602818, 3.3147171 , 3.51439262, 3.3725832 , 3.38802737,\n        3.09212054, 3.50686262, 3.24913826, 3.54067952, 3.24115619,\n        3.19991898, 3.24462655, 3.36179676, 3.85996625, 3.50075498,\n        3.42601568, 3.44753614, 3.32400714, 2.98271813, 3.32326398,\n        2.9310748 , 3.29169644, 3.89956119, 3.01299941, 2.98904324,\n        3.09262242, 3.15894689, 3.20164043, 3.26897499, 3.25234277,\n        3.19084118, 3.11552042, 3.41118886, 3.45637924, 3.23599343,\n        3.48415922, 3.30302671, 3.43118893, 3.63357447, 3.21185483,\n        3.44978049, 3.58620823, 3.65699596, 3.19490899, 2.98099773,\n        3.35481705, 3.23827878, 3.47286185, 3.22805971, 3.31852308,\n        1.446629  , 1.30643464, 1.49755049, 1.35595408, 1.23016156,\n        1.13945402, 1.45857789, 1.89661685, 1.08382077, 1.59386996,\n        1.82005699, 1.29370687, 0.95870405, 1.15524606, 1.44716532,\n        1.24629188, 1.3939582 , 0.87561719, 1.27858025, 1.15170893,\n        1.66062322, 1.08174556, 1.29449506, 0.95189047, 1.02453183,\n        1.18268908, 1.28137639, 1.60346545, 1.23458068, 1.26438106,\n        1.27397703, 1.26788464, 1.11443863, 1.48106363, 1.49829752,\n        1.49921295, 1.36622892, 1.05224116, 1.26265413, 1.31505417,\n        1.16356756, 1.15803517, 1.07495184, 1.84415007, 1.19878583,\n        1.11165348, 1.16916871, 1.01559907, 1.9875964 , 1.17586201,\n        2.77534276, 1.78745782, 2.49682267, 1.91817399, 2.37846284,\n        3.14835917, 1.94565297, 2.63305782, 2.09097572, 3.06424468,\n        1.91108332, 1.82415171, 2.18656888, 1.87690476, 2.24570333,\n        2.24291316, 1.88787379, 3.48852225, 3.49995192, 1.42869642,\n        2.51036321, 1.87639747, 3.1941959 , 1.56401837, 2.33365753,\n        2.43171492, 1.54061464, 1.60438881, 2.15471703, 2.14278078,\n        2.58948556, 3.28452637, 2.23816118, 1.37829731, 1.62135544,\n        2.99996124, 2.50911169, 1.89745447, 1.5893475 , 2.18326532,\n        2.47910376, 2.23897063, 1.78745782, 2.59627877, 2.65182908,\n        2.20642549, 1.70025982, 1.90536334, 2.33497697, 1.70695385],\n       [5.61358117, 5.81884658, 5.90323687, 5.78814733, 5.61426198,\n        5.17502402, 5.79110797, 5.57500489, 6.01175911, 5.69344584,\n        5.39988051, 5.54226574, 5.84564757, 6.27442042, 5.55864782,\n        5.23135638, 5.55667541, 5.61735343, 5.13428589, 5.45148526,\n        5.29271684, 5.47981748, 6.10210206, 5.41223148, 5.27208531,\n        5.61213913, 5.49285623, 5.49575887, 5.61646237, 5.63439256,\n        5.63548894, 5.48866719, 5.36255047, 5.37967988, 5.69540969,\n        5.90907688, 5.62016829, 5.64026219, 6.06529864, 5.5484857 ,\n        5.73616488, 6.29973186, 6.00276299, 5.48168401, 5.08382627,\n        5.85118172, 5.35372614, 5.84544691, 5.4215953 , 5.69578472,\n        2.9929737 , 3.1365678 , 2.96558621, 4.08949723, 3.31639828,\n        3.39817533, 3.00336204, 4.6127061 , 3.16724447, 4.02937781,\n        4.68012346, 3.51133843, 3.97860548, 3.17408122, 3.99007739,\n        3.22056168, 3.38121717, 3.60951819, 3.80807688, 3.9450637 ,\n        3.16200246, 3.66297168, 3.3658089 , 3.16186678, 3.36797203,\n        3.27633111, 3.16595792, 3.05987019, 3.35559645, 4.12729955,\n        4.10119465, 4.14624813, 3.80804905, 3.20209706, 3.44130812,\n        3.11860282, 3.06798917, 3.71326427, 3.56982711, 3.96097255,\n        3.60885405, 3.17196967, 3.79929435, 4.63566754, 3.67855264,\n        3.43982144, 3.53299866, 3.38130264, 4.73750309, 3.66106044,\n        3.05617924, 3.39565834, 3.00779779, 2.92383405, 3.04845396,\n        3.05848387, 4.00985954, 2.85680793, 3.16075079, 2.95116749,\n        3.05798129, 3.23306288, 3.08667678, 3.65191368, 3.63248999,\n        3.17260927, 2.88191491, 2.7329518 , 3.50308601, 3.57794795,\n        3.0487295 , 3.52751691, 3.16507718, 3.36765253, 2.82358807,\n        2.671355  , 3.36194431, 3.19202593, 3.17620207, 2.74116281,\n        3.04695874, 2.68256362, 3.24200949, 3.04610564, 2.96164474,\n        3.27319104, 3.03088957, 2.81657195, 3.2615882 , 3.07232608,\n        3.19505455, 3.33552778, 3.39565834, 2.98359742, 3.12763706,\n        3.33303429, 3.5105828 , 3.13240986, 3.03756408, 3.12267795]])"
     },
     "execution_count": 313,
     "metadata": {},
     "output_type": "execute_result"
    }
   ],
   "source": [
    "all_clusters_dists = np.array(result[max_key][2])\n",
    "print(\"distance of each datapoint from centroids:\")\n",
    "all_clusters_dists"
   ],
   "metadata": {
    "collapsed": false
   }
  },
  {
   "cell_type": "code",
   "execution_count": 314,
   "outputs": [
    {
     "name": "stdout",
     "output_type": "stream",
     "text": [
      "clusters are:\n"
     ]
    },
    {
     "data": {
      "text/plain": "[(array([ 0,  1,  2,  3,  4,  5,  6,  7,  8,  9, 10, 11, 12, 13, 14, 15, 16,\n         17, 18, 19, 20, 21, 22, 23, 24, 25, 26, 27, 28, 29, 30, 31, 32, 33,\n         34, 35, 36, 37, 38, 39, 40, 41, 42, 43, 44, 45, 46, 47, 48, 49],\n        dtype=int64),),\n (array([ 50,  51,  52,  53,  54,  55,  56,  57,  58,  59,  60,  61,  62,\n          63,  64,  65,  66,  67,  68,  69,  70,  71,  72,  73,  74,  75,\n          76,  77,  78,  79,  80,  81,  82,  83,  84,  85,  86,  87,  88,\n          89,  90,  91,  92,  93,  94,  95,  96,  97,  98,  99, 100, 101,\n         102, 103, 104, 106, 107, 108, 110, 111, 112, 113, 114, 115, 116,\n         118, 119, 120, 121, 123, 124, 125, 126, 127, 128, 129, 130, 132,\n         133, 134, 135, 136, 137, 138, 139, 140, 141, 142, 143, 144, 145,\n         146, 147, 148, 149], dtype=int64),),\n (array([105, 109, 117, 122, 131], dtype=int64),)]"
     },
     "execution_count": 314,
     "metadata": {},
     "output_type": "execute_result"
    }
   ],
   "source": [
    "clusters = result[max_key][3]\n",
    "print(\"clusters are:\")\n",
    "clusters"
   ],
   "metadata": {
    "collapsed": false
   }
  },
  {
   "cell_type": "code",
   "execution_count": 315,
   "outputs": [
    {
     "name": "stdout",
     "output_type": "stream",
     "text": [
      "sum of all distance of each datapoint from its centroid in each cluster:\n"
     ]
    },
    {
     "data": {
      "text/plain": "array([ 32.23526825, 161.14281262,  14.59024396])"
     },
     "execution_count": 315,
     "metadata": {},
     "output_type": "execute_result"
    }
   ],
   "source": [
    "clusters_sum_dist = np.array(result[max_key][4])\n",
    "print(\"sum of all distance of each datapoint from its centroid in each cluster:\")\n",
    "clusters_sum_dist"
   ],
   "metadata": {
    "collapsed": false
   }
  },
  {
   "cell_type": "code",
   "execution_count": 316,
   "outputs": [
    {
     "data": {
      "text/plain": "['Setosa',\n 'Setosa',\n 'Setosa',\n 'Setosa',\n 'Setosa',\n 'Setosa',\n 'Setosa',\n 'Setosa',\n 'Setosa',\n 'Setosa',\n 'Setosa',\n 'Setosa',\n 'Setosa',\n 'Setosa',\n 'Setosa',\n 'Setosa',\n 'Setosa',\n 'Setosa',\n 'Setosa',\n 'Setosa',\n 'Setosa',\n 'Setosa',\n 'Setosa',\n 'Setosa',\n 'Setosa',\n 'Setosa',\n 'Setosa',\n 'Setosa',\n 'Setosa',\n 'Setosa',\n 'Setosa',\n 'Setosa',\n 'Setosa',\n 'Setosa',\n 'Setosa',\n 'Setosa',\n 'Setosa',\n 'Setosa',\n 'Setosa',\n 'Setosa',\n 'Setosa',\n 'Setosa',\n 'Setosa',\n 'Setosa',\n 'Setosa',\n 'Setosa',\n 'Setosa',\n 'Setosa',\n 'Setosa',\n 'Setosa',\n 'Versicolor',\n 'Versicolor',\n 'Versicolor',\n 'Versicolor',\n 'Versicolor',\n 'Versicolor',\n 'Versicolor',\n 'Versicolor',\n 'Versicolor',\n 'Versicolor',\n 'Versicolor',\n 'Versicolor',\n 'Versicolor',\n 'Versicolor',\n 'Versicolor',\n 'Versicolor',\n 'Versicolor',\n 'Versicolor',\n 'Versicolor',\n 'Versicolor',\n 'Versicolor',\n 'Versicolor',\n 'Versicolor',\n 'Versicolor',\n 'Versicolor',\n 'Versicolor',\n 'Versicolor',\n 'Versicolor',\n 'Versicolor',\n 'Versicolor',\n 'Versicolor',\n 'Versicolor',\n 'Versicolor',\n 'Versicolor',\n 'Versicolor',\n 'Versicolor',\n 'Versicolor',\n 'Versicolor',\n 'Versicolor',\n 'Versicolor',\n 'Versicolor',\n 'Versicolor',\n 'Versicolor',\n 'Versicolor',\n 'Versicolor',\n 'Versicolor',\n 'Versicolor',\n 'Versicolor',\n 'Versicolor',\n 'Versicolor',\n 'Versicolor',\n 'Versicolor',\n 'Versicolor',\n 'Versicolor',\n 'Versicolor',\n 'Virginica',\n 'Versicolor',\n 'Versicolor',\n 'Versicolor',\n 'Virginica',\n 'Versicolor',\n 'Versicolor',\n 'Versicolor',\n 'Versicolor',\n 'Versicolor',\n 'Versicolor',\n 'Versicolor',\n 'Virginica',\n 'Versicolor',\n 'Versicolor',\n 'Versicolor',\n 'Versicolor',\n 'Virginica',\n 'Versicolor',\n 'Versicolor',\n 'Versicolor',\n 'Versicolor',\n 'Versicolor',\n 'Versicolor',\n 'Versicolor',\n 'Versicolor',\n 'Virginica',\n 'Versicolor',\n 'Versicolor',\n 'Versicolor',\n 'Versicolor',\n 'Versicolor',\n 'Versicolor',\n 'Versicolor',\n 'Versicolor',\n 'Versicolor',\n 'Versicolor',\n 'Versicolor',\n 'Versicolor',\n 'Versicolor',\n 'Versicolor',\n 'Versicolor',\n 'Versicolor',\n 'Versicolor',\n 'Versicolor']"
     },
     "execution_count": 316,
     "metadata": {},
     "output_type": "execute_result"
    }
   ],
   "source": [
    "labels_idx = [0 for i in range(150)]\n",
    "race = {0: 'Setosa', 1: 'Versicolor', 2: 'Virginica'}\n",
    "labels = [0 for i in range(150)]\n",
    "for i in range(3):\n",
    "    for elems in list(clusters[i]):\n",
    "        for e in elems:\n",
    "            labels_idx[e] = i\n",
    "            labels[e] = race[i]\n",
    "labels"
   ],
   "metadata": {
    "collapsed": false
   }
  },
  {
   "cell_type": "code",
   "execution_count": 317,
   "outputs": [
    {
     "data": {
      "text/plain": "     sepal.length  sepal.width  petal.length  petal.width    variety  \\\n0             5.1          3.5           1.4          0.2     Setosa   \n1             4.9          3.0           1.4          0.2     Setosa   \n2             4.7          3.2           1.3          0.2     Setosa   \n3             4.6          3.1           1.5          0.2     Setosa   \n4             5.0          3.6           1.4          0.2     Setosa   \n..            ...          ...           ...          ...        ...   \n145           6.7          3.0           5.2          2.3  Virginica   \n146           6.3          2.5           5.0          1.9  Virginica   \n147           6.5          3.0           5.2          2.0  Virginica   \n148           6.2          3.4           5.4          2.3  Virginica   \n149           5.9          3.0           5.1          1.8  Virginica   \n\n     cluster_number      labels  \n0                 0      Setosa  \n1                 0      Setosa  \n2                 0      Setosa  \n3                 0      Setosa  \n4                 0      Setosa  \n..              ...         ...  \n145               1  Versicolor  \n146               1  Versicolor  \n147               1  Versicolor  \n148               1  Versicolor  \n149               1  Versicolor  \n\n[150 rows x 7 columns]",
      "text/html": "<div>\n<style scoped>\n    .dataframe tbody tr th:only-of-type {\n        vertical-align: middle;\n    }\n\n    .dataframe tbody tr th {\n        vertical-align: top;\n    }\n\n    .dataframe thead th {\n        text-align: right;\n    }\n</style>\n<table border=\"1\" class=\"dataframe\">\n  <thead>\n    <tr style=\"text-align: right;\">\n      <th></th>\n      <th>sepal.length</th>\n      <th>sepal.width</th>\n      <th>petal.length</th>\n      <th>petal.width</th>\n      <th>variety</th>\n      <th>cluster_number</th>\n      <th>labels</th>\n    </tr>\n  </thead>\n  <tbody>\n    <tr>\n      <th>0</th>\n      <td>5.1</td>\n      <td>3.5</td>\n      <td>1.4</td>\n      <td>0.2</td>\n      <td>Setosa</td>\n      <td>0</td>\n      <td>Setosa</td>\n    </tr>\n    <tr>\n      <th>1</th>\n      <td>4.9</td>\n      <td>3.0</td>\n      <td>1.4</td>\n      <td>0.2</td>\n      <td>Setosa</td>\n      <td>0</td>\n      <td>Setosa</td>\n    </tr>\n    <tr>\n      <th>2</th>\n      <td>4.7</td>\n      <td>3.2</td>\n      <td>1.3</td>\n      <td>0.2</td>\n      <td>Setosa</td>\n      <td>0</td>\n      <td>Setosa</td>\n    </tr>\n    <tr>\n      <th>3</th>\n      <td>4.6</td>\n      <td>3.1</td>\n      <td>1.5</td>\n      <td>0.2</td>\n      <td>Setosa</td>\n      <td>0</td>\n      <td>Setosa</td>\n    </tr>\n    <tr>\n      <th>4</th>\n      <td>5.0</td>\n      <td>3.6</td>\n      <td>1.4</td>\n      <td>0.2</td>\n      <td>Setosa</td>\n      <td>0</td>\n      <td>Setosa</td>\n    </tr>\n    <tr>\n      <th>...</th>\n      <td>...</td>\n      <td>...</td>\n      <td>...</td>\n      <td>...</td>\n      <td>...</td>\n      <td>...</td>\n      <td>...</td>\n    </tr>\n    <tr>\n      <th>145</th>\n      <td>6.7</td>\n      <td>3.0</td>\n      <td>5.2</td>\n      <td>2.3</td>\n      <td>Virginica</td>\n      <td>1</td>\n      <td>Versicolor</td>\n    </tr>\n    <tr>\n      <th>146</th>\n      <td>6.3</td>\n      <td>2.5</td>\n      <td>5.0</td>\n      <td>1.9</td>\n      <td>Virginica</td>\n      <td>1</td>\n      <td>Versicolor</td>\n    </tr>\n    <tr>\n      <th>147</th>\n      <td>6.5</td>\n      <td>3.0</td>\n      <td>5.2</td>\n      <td>2.0</td>\n      <td>Virginica</td>\n      <td>1</td>\n      <td>Versicolor</td>\n    </tr>\n    <tr>\n      <th>148</th>\n      <td>6.2</td>\n      <td>3.4</td>\n      <td>5.4</td>\n      <td>2.3</td>\n      <td>Virginica</td>\n      <td>1</td>\n      <td>Versicolor</td>\n    </tr>\n    <tr>\n      <th>149</th>\n      <td>5.9</td>\n      <td>3.0</td>\n      <td>5.1</td>\n      <td>1.8</td>\n      <td>Virginica</td>\n      <td>1</td>\n      <td>Versicolor</td>\n    </tr>\n  </tbody>\n</table>\n<p>150 rows × 7 columns</p>\n</div>"
     },
     "execution_count": 317,
     "metadata": {},
     "output_type": "execute_result"
    }
   ],
   "source": [
    "df2 = new_df.assign(cluster_number=labels_idx).assign(labels=labels)\n",
    "df2"
   ],
   "metadata": {
    "collapsed": false
   }
  },
  {
   "cell_type": "code",
   "execution_count": 318,
   "outputs": [
    {
     "name": "stdout",
     "output_type": "stream",
     "text": [
      "total accuracy:  70.0\n"
     ]
    }
   ],
   "source": [
    "##total accuracy\n",
    "correct = 0\n",
    "for i in range(len(df2)):\n",
    "    if df2['labels'][i] == df2['variety'][i]:\n",
    "        correct += 1\n",
    "accuracy = correct / len(df2)\n",
    "print(\"total accuracy: \",accuracy * 100)"
   ],
   "metadata": {
    "collapsed": false
   }
  },
  {
   "cell_type": "code",
   "execution_count": 190,
   "outputs": [],
   "source": [],
   "metadata": {
    "collapsed": false
   }
  }
 ],
 "metadata": {
  "kernelspec": {
   "display_name": "Python 3",
   "language": "python",
   "name": "python3"
  },
  "language_info": {
   "codemirror_mode": {
    "name": "ipython",
    "version": 2
   },
   "file_extension": ".py",
   "mimetype": "text/x-python",
   "name": "python",
   "nbconvert_exporter": "python",
   "pygments_lexer": "ipython2",
   "version": "2.7.6"
  }
 },
 "nbformat": 4,
 "nbformat_minor": 0
}
