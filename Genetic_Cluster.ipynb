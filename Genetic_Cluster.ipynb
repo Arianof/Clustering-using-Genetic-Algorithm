{
 "cells": [
  {
   "cell_type": "code",
   "execution_count": 1,
   "metadata": {
    "collapsed": true
   },
   "outputs": [],
   "source": [
    "import numpy as np\n",
    "import pandas as pd"
   ]
  },
  {
   "cell_type": "code",
   "execution_count": 2,
   "outputs": [],
   "source": [
    "df = pd.read_csv(\"./archive/bezdekIris.data\")"
   ],
   "metadata": {
    "collapsed": false
   }
  },
  {
   "cell_type": "code",
   "execution_count": 3,
   "outputs": [],
   "source": [
    "label = df[\"Iris-setosa\"]"
   ],
   "metadata": {
    "collapsed": false
   }
  },
  {
   "cell_type": "code",
   "execution_count": 4,
   "outputs": [
    {
     "data": {
      "text/plain": "     5.1  3.5  1.4  0.2\n0    4.9  3.0  1.4  0.2\n1    4.7  3.2  1.3  0.2\n2    4.6  3.1  1.5  0.2\n3    5.0  3.6  1.4  0.2\n4    5.4  3.9  1.7  0.4\n..   ...  ...  ...  ...\n144  6.7  3.0  5.2  2.3\n145  6.3  2.5  5.0  1.9\n146  6.5  3.0  5.2  2.0\n147  6.2  3.4  5.4  2.3\n148  5.9  3.0  5.1  1.8\n\n[149 rows x 4 columns]",
      "text/html": "<div>\n<style scoped>\n    .dataframe tbody tr th:only-of-type {\n        vertical-align: middle;\n    }\n\n    .dataframe tbody tr th {\n        vertical-align: top;\n    }\n\n    .dataframe thead th {\n        text-align: right;\n    }\n</style>\n<table border=\"1\" class=\"dataframe\">\n  <thead>\n    <tr style=\"text-align: right;\">\n      <th></th>\n      <th>5.1</th>\n      <th>3.5</th>\n      <th>1.4</th>\n      <th>0.2</th>\n    </tr>\n  </thead>\n  <tbody>\n    <tr>\n      <th>0</th>\n      <td>4.9</td>\n      <td>3.0</td>\n      <td>1.4</td>\n      <td>0.2</td>\n    </tr>\n    <tr>\n      <th>1</th>\n      <td>4.7</td>\n      <td>3.2</td>\n      <td>1.3</td>\n      <td>0.2</td>\n    </tr>\n    <tr>\n      <th>2</th>\n      <td>4.6</td>\n      <td>3.1</td>\n      <td>1.5</td>\n      <td>0.2</td>\n    </tr>\n    <tr>\n      <th>3</th>\n      <td>5.0</td>\n      <td>3.6</td>\n      <td>1.4</td>\n      <td>0.2</td>\n    </tr>\n    <tr>\n      <th>4</th>\n      <td>5.4</td>\n      <td>3.9</td>\n      <td>1.7</td>\n      <td>0.4</td>\n    </tr>\n    <tr>\n      <th>...</th>\n      <td>...</td>\n      <td>...</td>\n      <td>...</td>\n      <td>...</td>\n    </tr>\n    <tr>\n      <th>144</th>\n      <td>6.7</td>\n      <td>3.0</td>\n      <td>5.2</td>\n      <td>2.3</td>\n    </tr>\n    <tr>\n      <th>145</th>\n      <td>6.3</td>\n      <td>2.5</td>\n      <td>5.0</td>\n      <td>1.9</td>\n    </tr>\n    <tr>\n      <th>146</th>\n      <td>6.5</td>\n      <td>3.0</td>\n      <td>5.2</td>\n      <td>2.0</td>\n    </tr>\n    <tr>\n      <th>147</th>\n      <td>6.2</td>\n      <td>3.4</td>\n      <td>5.4</td>\n      <td>2.3</td>\n    </tr>\n    <tr>\n      <th>148</th>\n      <td>5.9</td>\n      <td>3.0</td>\n      <td>5.1</td>\n      <td>1.8</td>\n    </tr>\n  </tbody>\n</table>\n<p>149 rows × 4 columns</p>\n</div>"
     },
     "execution_count": 4,
     "metadata": {},
     "output_type": "execute_result"
    }
   ],
   "source": [
    "df = df.drop(\"Iris-setosa\", axis=1)\n",
    "df"
   ],
   "metadata": {
    "collapsed": false
   }
  },
  {
   "cell_type": "code",
   "execution_count": 5,
   "outputs": [],
   "source": [
    "def euclidean_distance(X, Y):\n",
    "    return np.sqrt(np.sum(np.power(X - Y, 2), axis=1))"
   ],
   "metadata": {
    "collapsed": false
   }
  },
  {
   "cell_type": "code",
   "execution_count": 6,
   "outputs": [],
   "source": [
    "df = df.to_numpy()"
   ],
   "metadata": {
    "collapsed": false
   }
  },
  {
   "cell_type": "code",
   "execution_count": 7,
   "outputs": [
    {
     "name": "stdout",
     "output_type": "stream",
     "text": [
      "[0.         0.3        0.33166248 0.60827625 1.09087121 0.50990195\n",
      " 0.42426407 0.50990195 0.17320508 0.8660254  0.45825757 0.14142136\n",
      " 0.678233   1.36014705 1.62788206 1.05356538 0.54772256 1.17473401\n",
      " 0.83666003 0.70710678 0.76157731 0.78102497 0.55677644 0.64807407\n",
      " 0.2236068  0.5        0.59160798 0.5        0.34641016 0.24494897\n",
      " 0.678233   1.14891253 1.34164079 0.14142136 0.3        0.78740079\n",
      " 0.60827625 0.50990195 0.45825757 0.52915026 0.81853528 0.54772256\n",
      " 0.678233   0.98488578 0.14142136 0.84852814 0.36055513 0.81240384\n",
      " 0.31622777 4.09633983 3.68646172 4.23674403 2.96984848 3.81182371\n",
      " 3.39116499 3.86005181 2.14709106 3.78813938 2.80535203 2.46170673\n",
      " 3.24499615 3.04138127 3.71214224 2.55929678 3.7        3.43365694\n",
      " 2.97153159 3.69188299 2.79284801 3.89358447 3.07408523 4.01870626\n",
      " 3.65650106 3.44673759 3.65102725 4.08044115 4.29534632 3.5383612\n",
      " 2.41867732 2.7        2.57875939 2.85482048 4.11703777 3.39852909\n",
      " 3.59722115 3.97869325 3.55808937 2.99833287 2.9291637  3.24345495\n",
      " 3.62215406 2.95465734 2.17944947 3.10322413 3.07896086 3.1144823\n",
      " 3.36452077 1.91311265 3.02985148 5.33853913 4.18090899 5.35723809\n",
      " 4.70850295 5.09116882 6.15954544 3.47994253 5.68682688 5.04083326\n",
      " 5.74717322 4.41927596 4.52106182 4.90204039 4.13400532 4.40227214\n",
      " 4.6808119  4.68294779 6.36945838 6.53146232 4.0620192  5.19037571\n",
      " 4.00249922 6.26178888 4.10609303 5.04281667 5.38980519 3.98120585\n",
      " 4.03112887 4.85180379 5.15848815 5.59195851 6.15467302 4.89182992\n",
      " 4.16893272 4.5475268  5.86003413 4.95983871 4.65080638 3.91535439\n",
      " 4.86004115 5.07247474 4.70212718 4.18090899 5.32071424 5.20672642\n",
      " 4.7        4.24970587 4.49888875 4.71805044 4.15331193]\n"
     ]
    }
   ],
   "source": [
    "d = euclidean_distance(df, df[0])\n",
    "# d = euclidean_distance(data[0], data)\n",
    "print(d)"
   ],
   "metadata": {
    "collapsed": false
   }
  },
  {
   "cell_type": "code",
   "execution_count": 146,
   "outputs": [],
   "source": [
    "def cluster_data(solutions, solution_idx):\n",
    "    solution = solutions[solution_idx]\n",
    "    feature_vector_length = df.shape[1]\n",
    "    cluster_centers = []\n",
    "    all_clusters_dists = []\n",
    "    clusters = []\n",
    "    clusters_sum_dist = []\n",
    "    num_cluster = int(len(solution) / feature_vector_length)\n",
    "    for clust_idx in range(num_cluster):\n",
    "        cluster_centers.append(solution[feature_vector_length*clust_idx:feature_vector_length*(clust_idx+1)])\n",
    "        cluster_center_dists = euclidean_distance(df, cluster_centers[clust_idx])\n",
    "        all_clusters_dists.append(np.array(cluster_center_dists))\n",
    "    cluster_centers = np.array(cluster_centers)\n",
    "    all_clusters_dists = np.array(all_clusters_dists)\n",
    "    cluster_indices = np.argmin(all_clusters_dists, axis=0)\n",
    "    for clust_idx in range(num_cluster):\n",
    "        clusters.append(np.where(cluster_indices == clust_idx))\n",
    "        if len(clusters[clust_idx]) == 0:\n",
    "            clusters_sum_dist.append(0)\n",
    "        else:\n",
    "            clusters_sum_dist.append(np.sum(all_clusters_dists[clust_idx, clusters[clust_idx]]))\n",
    "    clusters_sum_dist = np.array(clusters_sum_dist)\n",
    "    return cluster_centers, all_clusters_dists, clusters, clusters_sum_dist"
   ],
   "metadata": {
    "collapsed": false
   }
  },
  {
   "cell_type": "code",
   "execution_count": 147,
   "outputs": [],
   "source": [
    "def fitness_func(solutions, solution_idx):\n",
    "    _, _, _, clusters_sum_dist = cluster_data(solutions, solution_idx)\n",
    "    fitness = 1.0 / (np.sum(clusters_sum_dist) + 0.00000001)\n",
    "    return fitness"
   ],
   "metadata": {
    "collapsed": false
   }
  },
  {
   "cell_type": "code",
   "execution_count": 148,
   "outputs": [],
   "source": [
    "##initial population\n",
    "import random\n",
    "population = []\n",
    "def initial_population():\n",
    "    feature_vector_length = df.shape[1]\n",
    "    ##population has 100 members\n",
    "    for i in range(200):\n",
    "        ##default number of clusters is 3\n",
    "        Chromosome = []\n",
    "        for j in range(3):\n",
    "            gen1 = float('%0.1f' % random.uniform(0, 8))\n",
    "            gen2 = float('%0.1f' % random.uniform(2, 5))\n",
    "            gen3 = float('%0.1f' % random.uniform(1, 7))\n",
    "            gen4 = float('%0.1f' % random.uniform(0, 0.5))\n",
    "            Chromosome.append(gen1)\n",
    "            Chromosome.append(gen2)\n",
    "            Chromosome.append(gen3)\n",
    "            Chromosome.append(gen4)\n",
    "        population.append(Chromosome)\n",
    "    return population"
   ],
   "metadata": {
    "collapsed": false
   }
  },
  {
   "cell_type": "code",
   "execution_count": 149,
   "outputs": [],
   "source": [
    "##choose parents\n",
    "##just solutions with fitness score more than 0.0025 are accepted\n",
    "def choose_parents(population):\n",
    "    parents = []\n",
    "    for i in range(len(population)):\n",
    "        fit = fitness_func(population, i)\n",
    "        if fit >= 0.0025:\n",
    "            parents.append(population[i])\n",
    "    return parents"
   ],
   "metadata": {
    "collapsed": false
   }
  },
  {
   "cell_type": "code",
   "execution_count": 150,
   "outputs": [],
   "source": [
    "def doCrossover(parents):\n",
    "    index_parent1 = random.randint(0, len(parents)- 1)\n",
    "    index_parent2 = random.randint(0, len(parents) - 1)\n",
    "    parent1 = parents[index_parent1]\n",
    "    parent2 = parents[index_parent2]\n",
    "    cut = random.randint(1, 2)\n",
    "    child1 = np.concatenate((parent1[0:cut * 4], parent2[cut * 4 : 12]), axis=0)\n",
    "    child2 = np.concatenate((parent2[0:cut * 4], parent1[cut * 4 : 12]), axis=0)\n",
    "    fit_child1 = fitness_func([child1], 0)\n",
    "    fit_child2 = fitness_func([child2], 0)\n",
    "    if fit_child1 >= 0.0035:\n",
    "        parents.append(child1)\n",
    "    if fit_child2 >= 0.0035:\n",
    "        parents.append(child2)"
   ],
   "metadata": {
    "collapsed": false
   }
  },
  {
   "cell_type": "code",
   "execution_count": 151,
   "outputs": [],
   "source": [
    "def crossover(parents):\n",
    "    for i in range(100):\n",
    "        doCrossover(parents)\n"
   ],
   "metadata": {
    "collapsed": false
   }
  },
  {
   "cell_type": "code",
   "execution_count": 152,
   "outputs": [],
   "source": [
    "def doMutation(parents):\n",
    "    index_parent = random.randint(0, len(parents)- 1)\n",
    "    cut = random.randint(0, 2)\n",
    "    feature_to_mute = random.randint(0, 3)\n",
    "    parent_to_mute = parents[index_parent]\n",
    "    if feature_to_mute == 0:\n",
    "        new_feature_val = float('%0.1f' % random.uniform(0, 8))\n",
    "    elif feature_to_mute == 1:\n",
    "        new_feature_val = float('%0.1f' % random.uniform(2, 5))\n",
    "    elif feature_to_mute == 2:\n",
    "        new_feature_val = float('%0.1f' % random.uniform(1, 7))\n",
    "    elif feature_to_mute == 3:\n",
    "        new_feature_val = float('%0.1f' % random.uniform(0, 0.5))\n",
    "    else:\n",
    "        new_feature_val = float('%0.1f' % random.uniform(2, 5))\n",
    "    parent_to_mute[cut * 4 + feature_to_mute] = new_feature_val\n",
    "    fit = fitness_func([parent_to_mute], 0)\n",
    "    if fit < 0.0025:\n",
    "        parents.pop(index_parent)"
   ],
   "metadata": {
    "collapsed": false
   }
  },
  {
   "cell_type": "code",
   "execution_count": 153,
   "outputs": [],
   "source": [
    "def mutation(parents):\n",
    "    for i in range(20):\n",
    "        doMutation(parents)"
   ],
   "metadata": {
    "collapsed": false
   }
  },
  {
   "cell_type": "code",
   "execution_count": 154,
   "outputs": [],
   "source": [
    "result = {}\n",
    "for i in range(100):\n",
    "    population = initial_population()\n",
    "    parents = choose_parents(population)\n",
    "    crossover(parents)\n",
    "    mutation(parents)\n",
    "    fits = []\n",
    "    for j in range(len(parents)):\n",
    "        fit = fitness_func(parents, j)\n",
    "        fits.append(fit)\n",
    "    fit_max = max(fits)\n",
    "    idx = fits.index(fit_max)\n",
    "    cluster_centers, all_clusters_dists, clusters, clusters_sum_dist = cluster_data(parents, idx)\n",
    "    result.update({fit_max: [idx, cluster_centers, all_clusters_dists, clusters, clusters_sum_dist]})\n",
    "    population.clear()\n"
   ],
   "metadata": {
    "collapsed": false
   }
  },
  {
   "cell_type": "code",
   "execution_count": 156,
   "outputs": [
    {
     "name": "stdout",
     "output_type": "stream",
     "text": [
      "best fitness score:  0.004837856865189446\n",
      "index of best result in parents population: 146\n"
     ]
    }
   ],
   "source": [
    "##after 100 generation, best result is:\n",
    "max_key = next(iter(result))\n",
    "for key in result:\n",
    "    if result[key] > result[max_key]:\n",
    "        max_key = key\n",
    "print(\"best fitness score: \",max_key)\n",
    "print(\"index of best result in parents population:\"  , result[max_key][0])"
   ],
   "metadata": {
    "collapsed": false
   }
  },
  {
   "cell_type": "code",
   "execution_count": 157,
   "outputs": [
    {
     "name": "stdout",
     "output_type": "stream",
     "text": [
      "cluster centers are:\n"
     ]
    },
    {
     "data": {
      "text/plain": "array([[5. , 3.6, 1.3, 0.1],\n       [4.1, 3.8, 3.3, 0.1],\n       [6.8, 2.6, 4.6, 0.4]])"
     },
     "execution_count": 157,
     "metadata": {},
     "output_type": "execute_result"
    }
   ],
   "source": [
    "cluster_centers = np.array(result[max_key][1])\n",
    "print(\"cluster centers are:\")\n",
    "cluster_centers"
   ],
   "metadata": {
    "collapsed": false
   }
  },
  {
   "cell_type": "code",
   "execution_count": 158,
   "outputs": [
    {
     "name": "stdout",
     "output_type": "stream",
     "text": [
      "distance of each datapoint from centroids:\n"
     ]
    },
    {
     "data": {
      "text/plain": "array([[0.6244998 , 0.50990195, 0.678233  , 0.14142136, 0.70710678,\n        0.5       , 0.3       , 0.93273791, 0.54772256, 0.46904158,\n        0.42426407, 0.64031242, 0.94339811, 0.90553851, 1.12249722,\n        0.58309519, 0.26457513, 0.85440037, 0.36055513, 0.60827625,\n        0.38729833, 0.50990195, 0.64807407, 0.67082039, 0.678233  ,\n        0.46904158, 0.31622777, 0.31622777, 0.59160798, 0.6244998 ,\n        0.57445626, 0.57445626, 0.79372539, 0.55677644, 0.42426407,\n        0.51961524, 0.14142136, 0.85440037, 0.31622777, 0.2236068 ,\n        1.40712473, 0.72801099, 0.59160798, 0.70710678, 0.67082039,\n        0.38729833, 0.58309519, 0.38729833, 0.33166248, 4.17252921,\n        3.78417759, 4.33358974, 3.26649659, 3.96736688, 3.57910603,\n        3.9484174 , 2.5019992 , 3.92173431, 3.04959014, 2.86530976,\n        3.39705755, 3.32565783, 3.86652299, 2.75317998, 3.8       ,\n        3.59444015, 3.17804972, 3.94968353, 3.05450487, 4.01372645,\n        3.25269119, 4.22137418, 3.82361086, 3.59026461, 3.77094153,\n        4.22137418, 4.41588043, 3.7       , 2.67207784, 2.98998328,\n        2.87402157, 3.06920185, 4.30116263, 3.5665109 , 3.67831483,\n        4.08166633, 3.79868398, 3.16227766, 3.19217794, 3.47419055,\n        3.76164857, 3.18433667, 2.54950976, 3.31963853, 3.23573794,\n        3.29089653, 3.51710108, 2.26053091, 3.22645316, 5.44334456,\n        4.37378555, 5.47083175, 4.85386444, 5.22206856, 6.26178888,\n        3.74432905, 5.80258563, 5.21919534, 5.8       , 4.52327315,\n        4.69148164, 5.02394267, 4.35889894, 4.58366665, 4.79165942,\n        4.81040539, 6.39531078, 6.67008246, 4.31393092, 5.28866713,\n        4.19165838, 6.37965516, 4.28369   , 5.13225097, 5.47539953,\n        4.14969878, 4.17372735, 5.00899191, 5.26307895, 5.71664237,\n        6.17008914, 5.04975247, 4.327817  , 4.73180727, 5.96070466,\n        5.05074252, 4.76864761, 4.0620192 , 4.96689038, 5.18844871,\n        4.81040539, 4.37378555, 5.42217668, 5.30094331, 4.82700735,\n        4.45308882, 4.6292548 , 4.80936586, 4.30116263],\n       [2.21359436, 2.17485632, 1.99749844, 2.11423745, 2.08566536,\n        2.01494417, 2.05426386, 2.12602916, 2.0904545 , 2.22485955,\n        1.88414437, 2.17715411, 2.34946802, 2.71108834, 2.5       ,\n        2.40624188, 2.17715411, 2.27156334, 2.06881609, 2.1023796 ,\n        2.08326667, 2.36431808, 1.99248588, 1.61864141, 2.08566536,\n        1.98746069, 2.1330729 , 2.23383079, 1.90262976, 1.96977156,\n        2.27596134, 2.13072758, 2.39582971, 2.09284495, 2.36431808,\n        2.46170673, 2.07123152, 2.17715411, 2.1       , 2.22261108,\n        2.53968502, 2.11187121, 2.00997512, 1.74642492, 2.18632111,\n        1.97484177, 2.05669638, 2.16794834, 2.16333077, 3.52420204,\n        3.00832179, 3.58468967, 2.47790234, 3.22645316, 2.53771551,\n        3.04959014, 1.84661853, 3.19217794, 2.11423745, 2.21359436,\n        2.57875939, 2.73313007, 2.90860791, 2.14242853, 3.18590646,\n        2.50798724, 2.3558438 , 3.22024844, 2.30217289, 2.9563491 ,\n        2.63248932, 3.32415403, 2.85832119, 2.92232784, 3.12889757,\n        3.49714169, 3.58468967, 2.79642629, 2.20227155, 2.2737634 ,\n        2.21133444, 2.38117618, 3.21091887, 2.39374184, 2.73130006,\n        3.34215499, 3.12089731, 2.22934968, 2.36220236, 2.41246762,\n        2.83196045, 2.45560583, 1.96723156, 2.38956063, 2.28473193,\n        2.37065392, 2.7676705 , 1.94422221, 2.37486842, 4.25910789,\n        3.25269119, 4.51663592, 3.7188708 , 4.13037529, 5.27067358,\n        2.51594913, 4.78957201, 4.1940434 , 4.82182538, 3.60138862,\n        3.7067506 , 4.09511905, 3.27871926, 3.52420204, 3.80657326,\n        3.75898923, 5.37866154, 5.67450438, 3.31963853, 4.33589668,\n        3.06920185, 5.39722151, 3.39116499, 4.09511905, 4.48887514,\n        3.24807635, 3.17647603, 3.94715087, 4.33012702, 4.79270279,\n        5.25927752, 3.9987498 , 3.32264955, 3.52420204, 5.12640225,\n        3.94715087, 3.67559519, 3.06431069, 4.09145451, 4.22255847,\n        4.05092582, 3.25269119, 4.38748219, 4.30464865, 3.98120585,\n        3.55808937, 3.69052842, 3.71752606, 3.1638584 ],\n       [3.74833296, 3.96232255, 3.83927076, 3.81051178, 3.47275107,\n        3.9661064 , 3.67831483, 4.01621713, 3.68239053, 3.58050276,\n        3.6986484 , 3.80657326, 4.33012702, 3.81575681, 3.74966665,\n        3.81313519, 3.73496988, 3.32716095, 3.73496988, 3.32415403,\n        3.70270172, 4.34050688, 3.43511281, 3.45976878, 3.52703842,\n        3.58887169, 3.60832371, 3.67151195, 3.71618084, 3.64554523,\n        3.49428104, 3.80919939, 3.81182371, 3.67559519, 3.89871774,\n        3.66469644, 3.86522962, 4.10487515, 3.63042697, 3.86652299,\n        4.0348482 , 4.12916456, 3.6180105 , 3.40881211, 3.79605058,\n        3.65650106, 3.93446311, 3.6207734 , 3.74299345, 1.18743421,\n        1.3190906 , 1.2489996 , 1.7175564 , 1.15758369, 1.43874946,\n        1.47986486, 2.38746728, 0.96953597, 2.01494417, 2.2737634 ,\n        1.52970585, 1.2328828 , 1.26095202, 1.82756669, 1.14017543,\n        1.67928556, 1.27279221, 1.3190906 , 1.55884573, 1.78044938,\n        1.30384048, 1.2489996 , 1.08627805, 1.07238053, 1.11355287,\n        1.03923048, 1.42126704, 1.396424  , 1.6673332 , 1.69115345,\n        1.70293864, 1.46287388, 1.52970585, 1.82756669, 1.65227116,\n        1.21655251, 1.09087121, 1.63095064, 1.69410743, 1.53948043,\n        1.28452326, 1.41421356, 2.3194827 , 1.55563492, 1.47309199,\n        1.50665192, 1.161895  , 2.43926218, 1.51986842, 2.66645833,\n        1.8734994 , 2.1977261 , 1.81659021, 2.22036033, 2.77308492,\n        2.30651252, 2.27815715, 1.8493242 , 2.79642629, 1.80554701,\n        1.70587221, 1.96468827, 1.98494332, 2.3       , 2.14941853,\n        1.73781472, 3.14642654, 3.11608729, 1.47309199, 2.27815715,\n        2.03224014, 2.79642629, 1.51986842, 2.14476106, 2.10713075,\n        1.54919334, 1.64316767, 2.02237484, 1.78885438, 2.21359436,\n        2.90688837, 2.10713075, 1.32287566, 1.57797338, 2.61342687,\n        2.42693222, 1.78325545, 1.67332005, 1.94679223, 2.29346899,\n        2.02977831, 1.8734994 , 2.37907545, 2.47386338, 2.03469899,\n        1.63401346, 1.78044938, 2.29128785, 1.78325545]])"
     },
     "execution_count": 158,
     "metadata": {},
     "output_type": "execute_result"
    }
   ],
   "source": [
    "all_clusters_dists = np.array(result[max_key][2])\n",
    "print(\"distance of each datapoint from centroids:\")\n",
    "all_clusters_dists"
   ],
   "metadata": {
    "collapsed": false
   }
  },
  {
   "cell_type": "code",
   "execution_count": 159,
   "outputs": [
    {
     "name": "stdout",
     "output_type": "stream",
     "text": [
      "clusters are:\n"
     ]
    },
    {
     "data": {
      "text/plain": "[(array([ 0,  1,  2,  3,  4,  5,  6,  7,  8,  9, 10, 11, 12, 13, 14, 15, 16,\n         17, 18, 19, 20, 21, 22, 23, 24, 25, 26, 27, 28, 29, 30, 31, 32, 33,\n         34, 35, 36, 37, 38, 39, 40, 41, 42, 43, 44, 45, 46, 47, 48],\n        dtype=int64),),\n (array([56, 59, 92, 97], dtype=int64),),\n (array([ 49,  50,  51,  52,  53,  54,  55,  57,  58,  60,  61,  62,  63,\n          64,  65,  66,  67,  68,  69,  70,  71,  72,  73,  74,  75,  76,\n          77,  78,  79,  80,  81,  82,  83,  84,  85,  86,  87,  88,  89,\n          90,  91,  93,  94,  95,  96,  98,  99, 100, 101, 102, 103, 104,\n         105, 106, 107, 108, 109, 110, 111, 112, 113, 114, 115, 116, 117,\n         118, 119, 120, 121, 122, 123, 124, 125, 126, 127, 128, 129, 130,\n         131, 132, 133, 134, 135, 136, 137, 138, 139, 140, 141, 142, 143,\n         144, 145, 146, 147, 148], dtype=int64),)]"
     },
     "execution_count": 159,
     "metadata": {},
     "output_type": "execute_result"
    }
   ],
   "source": [
    "clusters = result[max_key][3]\n",
    "print(\"clusters are:\")\n",
    "clusters"
   ],
   "metadata": {
    "collapsed": false
   }
  },
  {
   "cell_type": "code",
   "execution_count": 160,
   "outputs": [
    {
     "name": "stdout",
     "output_type": "stream",
     "text": [
      "sum of all distance of each datapoint from its centroid in each cluster:\n"
     ]
    },
    {
     "data": {
      "text/plain": "array([ 28.10248514,   7.97166666, 170.62894583])"
     },
     "execution_count": 160,
     "metadata": {},
     "output_type": "execute_result"
    }
   ],
   "source": [
    "clusters_sum_dist = np.array(result[max_key][4])\n",
    "print(\"sum of all distance of each datapoint from its centroid in each cluster:\")\n",
    "clusters_sum_dist"
   ],
   "metadata": {
    "collapsed": false
   }
  },
  {
   "cell_type": "code",
   "execution_count": null,
   "outputs": [],
   "source": [],
   "metadata": {
    "collapsed": false
   }
  }
 ],
 "metadata": {
  "kernelspec": {
   "display_name": "Python 3",
   "language": "python",
   "name": "python3"
  },
  "language_info": {
   "codemirror_mode": {
    "name": "ipython",
    "version": 2
   },
   "file_extension": ".py",
   "mimetype": "text/x-python",
   "name": "python",
   "nbconvert_exporter": "python",
   "pygments_lexer": "ipython2",
   "version": "2.7.6"
  }
 },
 "nbformat": 4,
 "nbformat_minor": 0
}
