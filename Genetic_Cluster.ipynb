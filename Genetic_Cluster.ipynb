{
 "cells": [
  {
   "cell_type": "code",
   "execution_count": 1,
   "metadata": {
    "collapsed": true
   },
   "outputs": [],
   "source": [
    "import numpy as np\n",
    "import pandas as pd"
   ]
  },
  {
   "cell_type": "code",
   "execution_count": 32,
   "outputs": [
    {
     "data": {
      "text/plain": "     sepal.length  sepal.width  petal.length  petal.width    variety\n0             5.1          3.5           1.4          0.2     Setosa\n1             4.9          3.0           1.4          0.2     Setosa\n2             4.7          3.2           1.3          0.2     Setosa\n3             4.6          3.1           1.5          0.2     Setosa\n4             5.0          3.6           1.4          0.2     Setosa\n..            ...          ...           ...          ...        ...\n145           6.7          3.0           5.2          2.3  Virginica\n146           6.3          2.5           5.0          1.9  Virginica\n147           6.5          3.0           5.2          2.0  Virginica\n148           6.2          3.4           5.4          2.3  Virginica\n149           5.9          3.0           5.1          1.8  Virginica\n\n[150 rows x 5 columns]",
      "text/html": "<div>\n<style scoped>\n    .dataframe tbody tr th:only-of-type {\n        vertical-align: middle;\n    }\n\n    .dataframe tbody tr th {\n        vertical-align: top;\n    }\n\n    .dataframe thead th {\n        text-align: right;\n    }\n</style>\n<table border=\"1\" class=\"dataframe\">\n  <thead>\n    <tr style=\"text-align: right;\">\n      <th></th>\n      <th>sepal.length</th>\n      <th>sepal.width</th>\n      <th>petal.length</th>\n      <th>petal.width</th>\n      <th>variety</th>\n    </tr>\n  </thead>\n  <tbody>\n    <tr>\n      <th>0</th>\n      <td>5.1</td>\n      <td>3.5</td>\n      <td>1.4</td>\n      <td>0.2</td>\n      <td>Setosa</td>\n    </tr>\n    <tr>\n      <th>1</th>\n      <td>4.9</td>\n      <td>3.0</td>\n      <td>1.4</td>\n      <td>0.2</td>\n      <td>Setosa</td>\n    </tr>\n    <tr>\n      <th>2</th>\n      <td>4.7</td>\n      <td>3.2</td>\n      <td>1.3</td>\n      <td>0.2</td>\n      <td>Setosa</td>\n    </tr>\n    <tr>\n      <th>3</th>\n      <td>4.6</td>\n      <td>3.1</td>\n      <td>1.5</td>\n      <td>0.2</td>\n      <td>Setosa</td>\n    </tr>\n    <tr>\n      <th>4</th>\n      <td>5.0</td>\n      <td>3.6</td>\n      <td>1.4</td>\n      <td>0.2</td>\n      <td>Setosa</td>\n    </tr>\n    <tr>\n      <th>...</th>\n      <td>...</td>\n      <td>...</td>\n      <td>...</td>\n      <td>...</td>\n      <td>...</td>\n    </tr>\n    <tr>\n      <th>145</th>\n      <td>6.7</td>\n      <td>3.0</td>\n      <td>5.2</td>\n      <td>2.3</td>\n      <td>Virginica</td>\n    </tr>\n    <tr>\n      <th>146</th>\n      <td>6.3</td>\n      <td>2.5</td>\n      <td>5.0</td>\n      <td>1.9</td>\n      <td>Virginica</td>\n    </tr>\n    <tr>\n      <th>147</th>\n      <td>6.5</td>\n      <td>3.0</td>\n      <td>5.2</td>\n      <td>2.0</td>\n      <td>Virginica</td>\n    </tr>\n    <tr>\n      <th>148</th>\n      <td>6.2</td>\n      <td>3.4</td>\n      <td>5.4</td>\n      <td>2.3</td>\n      <td>Virginica</td>\n    </tr>\n    <tr>\n      <th>149</th>\n      <td>5.9</td>\n      <td>3.0</td>\n      <td>5.1</td>\n      <td>1.8</td>\n      <td>Virginica</td>\n    </tr>\n  </tbody>\n</table>\n<p>150 rows × 5 columns</p>\n</div>"
     },
     "execution_count": 32,
     "metadata": {},
     "output_type": "execute_result"
    }
   ],
   "source": [
    "df = pd.read_csv(\"./archive/iris.csv\")\n",
    "df"
   ],
   "metadata": {
    "collapsed": false
   }
  },
  {
   "cell_type": "code",
   "execution_count": 33,
   "outputs": [
    {
     "data": {
      "text/plain": "       sepal.length  sepal.width  petal.length  petal.width\ncount    150.000000   150.000000    150.000000   150.000000\nmean       5.843333     3.057333      3.758000     1.199333\nstd        0.828066     0.435866      1.765298     0.762238\nmin        4.300000     2.000000      1.000000     0.100000\n25%        5.100000     2.800000      1.600000     0.300000\n50%        5.800000     3.000000      4.350000     1.300000\n75%        6.400000     3.300000      5.100000     1.800000\nmax        7.900000     4.400000      6.900000     2.500000",
      "text/html": "<div>\n<style scoped>\n    .dataframe tbody tr th:only-of-type {\n        vertical-align: middle;\n    }\n\n    .dataframe tbody tr th {\n        vertical-align: top;\n    }\n\n    .dataframe thead th {\n        text-align: right;\n    }\n</style>\n<table border=\"1\" class=\"dataframe\">\n  <thead>\n    <tr style=\"text-align: right;\">\n      <th></th>\n      <th>sepal.length</th>\n      <th>sepal.width</th>\n      <th>petal.length</th>\n      <th>petal.width</th>\n    </tr>\n  </thead>\n  <tbody>\n    <tr>\n      <th>count</th>\n      <td>150.000000</td>\n      <td>150.000000</td>\n      <td>150.000000</td>\n      <td>150.000000</td>\n    </tr>\n    <tr>\n      <th>mean</th>\n      <td>5.843333</td>\n      <td>3.057333</td>\n      <td>3.758000</td>\n      <td>1.199333</td>\n    </tr>\n    <tr>\n      <th>std</th>\n      <td>0.828066</td>\n      <td>0.435866</td>\n      <td>1.765298</td>\n      <td>0.762238</td>\n    </tr>\n    <tr>\n      <th>min</th>\n      <td>4.300000</td>\n      <td>2.000000</td>\n      <td>1.000000</td>\n      <td>0.100000</td>\n    </tr>\n    <tr>\n      <th>25%</th>\n      <td>5.100000</td>\n      <td>2.800000</td>\n      <td>1.600000</td>\n      <td>0.300000</td>\n    </tr>\n    <tr>\n      <th>50%</th>\n      <td>5.800000</td>\n      <td>3.000000</td>\n      <td>4.350000</td>\n      <td>1.300000</td>\n    </tr>\n    <tr>\n      <th>75%</th>\n      <td>6.400000</td>\n      <td>3.300000</td>\n      <td>5.100000</td>\n      <td>1.800000</td>\n    </tr>\n    <tr>\n      <th>max</th>\n      <td>7.900000</td>\n      <td>4.400000</td>\n      <td>6.900000</td>\n      <td>2.500000</td>\n    </tr>\n  </tbody>\n</table>\n</div>"
     },
     "execution_count": 33,
     "metadata": {},
     "output_type": "execute_result"
    }
   ],
   "source": [
    "import copy\n",
    "variety = df[\"variety\"]\n",
    "new_df = copy.deepcopy(df)\n",
    "df = df.drop(\"variety\", axis=1)\n",
    "df.describe()"
   ],
   "metadata": {
    "collapsed": false
   }
  },
  {
   "cell_type": "code",
   "execution_count": 34,
   "outputs": [],
   "source": [
    "def euclidean_distance(X, Y):\n",
    "    return np.sqrt(np.sum(np.power(X - Y, 2), axis=1))"
   ],
   "metadata": {
    "collapsed": false
   }
  },
  {
   "cell_type": "code",
   "execution_count": 35,
   "outputs": [],
   "source": [
    "df = df.to_numpy()"
   ],
   "metadata": {
    "collapsed": false
   }
  },
  {
   "cell_type": "code",
   "execution_count": 36,
   "outputs": [
    {
     "name": "stdout",
     "output_type": "stream",
     "text": [
      "[0.         0.53851648 0.50990195 0.64807407 0.14142136 0.6164414\n",
      " 0.51961524 0.17320508 0.92195445 0.46904158 0.37416574 0.37416574\n",
      " 0.59160798 0.99498744 0.88317609 1.1045361  0.54772256 0.1\n",
      " 0.74161985 0.33166248 0.43588989 0.3        0.64807407 0.46904158\n",
      " 0.59160798 0.54772256 0.31622777 0.14142136 0.14142136 0.53851648\n",
      " 0.53851648 0.38729833 0.6244998  0.80622577 0.45825757 0.37416574\n",
      " 0.41231056 0.24494897 0.8660254  0.14142136 0.17320508 1.34907376\n",
      " 0.76811457 0.45825757 0.6164414  0.59160798 0.36055513 0.58309519\n",
      " 0.3        0.2236068  4.00374824 3.61662826 4.16413256 3.09354166\n",
      " 3.79209705 3.41613817 3.78549865 2.34520788 3.74966665 2.88790582\n",
      " 2.70370117 3.22800248 3.14642654 3.7        2.58069758 3.62767143\n",
      " 3.43511281 3.00998339 3.76828874 2.88270706 3.85356977 3.0757113\n",
      " 4.04722127 3.65786823 3.41613817 3.59722115 4.04722127 4.24499706\n",
      " 3.53128872 2.49399278 2.81780056 2.70185122 2.89482297 4.13521463\n",
      " 3.41174442 3.51994318 3.91152144 3.6180105  3.         3.02158899\n",
      " 3.31209903 3.59583092 3.00998339 2.38746728 3.15277655 3.07408523\n",
      " 3.12569992 3.34514574 2.0904545  3.05777697 5.2848841  4.20832508\n",
      " 5.30188646 4.69041576 5.05667875 6.09507998 3.591657   5.63648827\n",
      " 5.04777179 5.63914887 4.35660418 4.51995575 4.85386444 4.19046537\n",
      " 4.41701257 4.6260134  4.64542786 6.2401923  6.49846136 4.14125585\n",
      " 5.12152321 4.02864742 6.21128006 4.10974452 4.96990946 5.31224999\n",
      " 3.97743636 4.00749298 4.84045452 5.09705797 5.54616985 6.01414998\n",
      " 4.88057374 4.16052881 4.57055795 5.78878226 4.89182992 4.60651712\n",
      " 3.89615195 4.79687398 5.01996016 4.63680925 4.20832508 5.25737577\n",
      " 5.13614642 4.65403051 4.27668096 4.45982062 4.65080638 4.14004831]\n"
     ]
    }
   ],
   "source": [
    "d = euclidean_distance(df, df[0])\n",
    "# d = euclidean_distance(data[0], data)\n",
    "print(d)"
   ],
   "metadata": {
    "collapsed": false
   }
  },
  {
   "cell_type": "code",
   "execution_count": 37,
   "outputs": [],
   "source": [
    "def cluster_data(solutions, solution_idx):\n",
    "    solution = solutions[solution_idx]\n",
    "    feature_vector_length = df.shape[1]\n",
    "    cluster_centers = []\n",
    "    all_clusters_dists = []\n",
    "    clusters = []\n",
    "    clusters_sum_dist = []\n",
    "    num_cluster = int(len(solution) / feature_vector_length)\n",
    "    for clust_idx in range(num_cluster):\n",
    "        cluster_centers.append(solution[feature_vector_length*clust_idx:feature_vector_length*(clust_idx+1)])\n",
    "        cluster_center_dists = euclidean_distance(df, cluster_centers[clust_idx])\n",
    "        all_clusters_dists.append(np.array(cluster_center_dists))\n",
    "    cluster_centers = np.array(cluster_centers)\n",
    "    all_clusters_dists = np.array(all_clusters_dists)\n",
    "    cluster_indices = np.argmin(all_clusters_dists, axis=0)\n",
    "    for clust_idx in range(num_cluster):\n",
    "        clusters.append(np.where(cluster_indices == clust_idx))\n",
    "        if len(clusters[clust_idx]) == 0:\n",
    "            clusters_sum_dist.append(0)\n",
    "        else:\n",
    "            clusters_sum_dist.append(np.sum(all_clusters_dists[clust_idx, clusters[clust_idx]]))\n",
    "    clusters_sum_dist = np.array(clusters_sum_dist)\n",
    "    return cluster_centers, all_clusters_dists, clusters, clusters_sum_dist"
   ],
   "metadata": {
    "collapsed": false
   }
  },
  {
   "cell_type": "code",
   "execution_count": 38,
   "outputs": [],
   "source": [
    "def fitness_func(solutions, solution_idx):\n",
    "    _, _, _, clusters_sum_dist = cluster_data(solutions, solution_idx)\n",
    "    fitness = 1.0 / (np.sum(clusters_sum_dist) + 0.00000001)\n",
    "    return fitness"
   ],
   "metadata": {
    "collapsed": false
   }
  },
  {
   "cell_type": "code",
   "execution_count": 55,
   "outputs": [],
   "source": [
    "##initial population\n",
    "import random\n",
    "def initial_population():\n",
    "    population = []\n",
    "    feature_vector_length = df.shape[1]\n",
    "    ##population has 100 members\n",
    "    for i in range(200):\n",
    "        ##default number of clusters is 3\n",
    "        Chromosome = []\n",
    "        for j in range(3):\n",
    "            gen1 = float('%0.5f' % random.uniform(0, 8))\n",
    "            gen2 = float('%0.5f' % random.uniform(2, 5))\n",
    "            gen3 = float('%0.5f' % random.uniform(1, 7))\n",
    "            gen4 = float('%0.5f' % random.uniform(0, 0.5))\n",
    "            Chromosome.append(gen1)\n",
    "            Chromosome.append(gen2)\n",
    "            Chromosome.append(gen3)\n",
    "            Chromosome.append(gen4)\n",
    "        population.append(Chromosome)\n",
    "    return population"
   ],
   "metadata": {
    "collapsed": false
   }
  },
  {
   "cell_type": "code",
   "execution_count": 56,
   "outputs": [],
   "source": [
    "##choose parents\n",
    "##just solutions with fitness score more than 0.0025 are accepted\n",
    "def selection(population):\n",
    "    parents = []\n",
    "    for i in range(len(population)):\n",
    "        fit = fitness_func(population, i)\n",
    "        if fit >= 0.0025:\n",
    "            parents.append(population[i])\n",
    "    return parents"
   ],
   "metadata": {
    "collapsed": false
   }
  },
  {
   "cell_type": "code",
   "execution_count": 57,
   "outputs": [],
   "source": [
    "def doCrossover(parents):\n",
    "    index_parent1 = random.randint(0, len(parents)- 1)\n",
    "    index_parent2 = random.randint(0, len(parents) - 1)\n",
    "    parent1 = parents[index_parent1]\n",
    "    parent2 = parents[index_parent2]\n",
    "    cut = random.randint(1, 2)\n",
    "    child1 = np.concatenate((parent1[0:cut * 4], parent2[cut * 4 : 12]), axis=0)\n",
    "    child2 = np.concatenate((parent2[0:cut * 4], parent1[cut * 4 : 12]), axis=0)\n",
    "    fit_child1 = fitness_func([child1], 0)\n",
    "    fit_child2 = fitness_func([child2], 0)\n",
    "    if fit_child1 >= 0.0035:\n",
    "        parents.append(child1)\n",
    "    if fit_child2 >= 0.0035:\n",
    "        parents.append(child2)"
   ],
   "metadata": {
    "collapsed": false
   }
  },
  {
   "cell_type": "code",
   "execution_count": 58,
   "outputs": [],
   "source": [
    "def crossover(parents):\n",
    "    for i in range(100):\n",
    "        doCrossover(parents)\n"
   ],
   "metadata": {
    "collapsed": false
   }
  },
  {
   "cell_type": "code",
   "execution_count": 59,
   "outputs": [],
   "source": [
    "def doMutation(parents):\n",
    "    index_parent = random.randint(0, len(parents)- 1)\n",
    "    cut = random.randint(0, 2)\n",
    "    feature_to_mute = random.randint(0, 3)\n",
    "    parent_to_mute = parents[index_parent]\n",
    "    if feature_to_mute == 0:\n",
    "        new_feature_val = float('%0.5f' % random.uniform(0, 8))\n",
    "    elif feature_to_mute == 1:\n",
    "        new_feature_val = float('%0.5f' % random.uniform(2, 5))\n",
    "    elif feature_to_mute == 2:\n",
    "        new_feature_val = float('%0.5f' % random.uniform(1, 7))\n",
    "    elif feature_to_mute == 3:\n",
    "        new_feature_val = float('%0.5f' % random.uniform(0, 0.5))\n",
    "    else:\n",
    "        new_feature_val = float('%0.5f' % random.uniform(2, 5))\n",
    "    parent_to_mute[cut * 4 + feature_to_mute] = new_feature_val\n"
   ],
   "metadata": {
    "collapsed": false
   }
  },
  {
   "cell_type": "code",
   "execution_count": 60,
   "outputs": [],
   "source": [
    "def mutation(parents):\n",
    "    for i in range(20):\n",
    "        doMutation(parents)"
   ],
   "metadata": {
    "collapsed": false
   }
  },
  {
   "cell_type": "code",
   "execution_count": 215,
   "outputs": [],
   "source": [
    "result = {}\n",
    "population = initial_population()\n",
    "parents = selection(population)\n",
    "for i in range(20):\n",
    "    crossover(parents)\n",
    "    mutation(parents)\n",
    "    fits = []\n",
    "    for j in range(len(parents)):\n",
    "        fit = fitness_func(parents, j)\n",
    "        fits.append(fit)\n",
    "    fit_max = max(fits)\n",
    "    idx = fits.index(fit_max)\n",
    "    cluster_centers, all_clusters_dists, clusters, clusters_sum_dist = cluster_data(parents, idx)\n",
    "    result.update({fit_max: [idx, cluster_centers, all_clusters_dists, clusters, clusters_sum_dist]})\n",
    "    parents = selection(parents)\n",
    "    if fit_max >= 0.005:\n",
    "        break\n",
    "\n"
   ],
   "metadata": {
    "collapsed": false
   }
  },
  {
   "cell_type": "code",
   "execution_count": 216,
   "outputs": [
    {
     "name": "stdout",
     "output_type": "stream",
     "text": [
      "best fitness score:  0.005172100467268625\n",
      "index of best result in parents population: 131\n"
     ]
    }
   ],
   "source": [
    "##after n generation, best result is:\n",
    "max_key = next(iter(result))\n",
    "for key in result:\n",
    "    if result[key] > result[max_key]:\n",
    "        max_key = key\n",
    "print(\"best fitness score: \",max_key)\n",
    "print(\"index of best result in parents population:\"  , result[max_key][0])"
   ],
   "metadata": {
    "collapsed": false
   }
  },
  {
   "cell_type": "code",
   "execution_count": 217,
   "outputs": [
    {
     "name": "stdout",
     "output_type": "stream",
     "text": [
      "cluster centers are:\n"
     ]
    },
    {
     "data": {
      "text/plain": "array([[4.96038, 3.79724, 1.74055, 0.30334],\n       [5.39326, 3.22325, 3.07341, 0.33106],\n       [6.15858, 2.81109, 5.16407, 0.43996]])"
     },
     "execution_count": 217,
     "metadata": {},
     "output_type": "execute_result"
    }
   ],
   "source": [
    "cluster_centers = np.array(result[max_key][1])\n",
    "print(\"cluster centers are:\")\n",
    "cluster_centers"
   ],
   "metadata": {
    "collapsed": false
   }
  },
  {
   "cell_type": "code",
   "execution_count": 218,
   "outputs": [
    {
     "name": "stdout",
     "output_type": "stream",
     "text": [
      "distance of each datapoint from centroids:\n"
     ]
    },
    {
     "data": {
      "text/plain": "array([[0.48425078, 0.87515188, 0.7932571 , 0.82738191, 0.40881147,\n        0.46347904, 0.6353415 , 0.47740216, 1.11611774, 0.76746389,\n        0.52083089, 0.46255251, 0.90478441, 1.23423856, 1.02418105,\n        0.98871878, 0.63816363, 0.47310762, 0.74074342, 0.27816689,\n        0.6028174 , 0.31009163, 0.85315346, 0.55413069, 0.46864146,\n        0.81706476, 0.43412765, 0.46293933, 0.5846972 , 0.67448263,\n        0.73640941, 0.64674015, 0.4982899 , 0.76161593, 0.74721672,\n        0.81310443, 0.76439834, 0.44706914, 1.07442116, 0.49581934,\n        0.53293228, 1.62719784, 0.93567346, 0.44461536, 0.23295669,\n        0.88164552, 0.223461  , 0.78308545, 0.43970538, 0.61275674,\n        3.80496423, 3.38758923, 3.9575736 , 2.93791811, 3.60185602,\n        3.18581557, 3.53291676, 2.20752006, 3.55853605, 2.66968927,\n        2.6101036 , 2.99989447, 3.0368462 , 3.47343934, 2.3801342 ,\n        3.43333057, 3.17667512, 2.82156638, 3.62414029, 2.71842543,\n        3.58326762, 2.89683738, 3.85895489, 3.44319108, 3.22825972,\n        3.40577199, 3.86543488, 4.02945937, 3.30641934, 2.35826649,\n        2.66823365, 2.5628595 , 2.71590147, 3.90537794, 3.14251759,\n        3.24568958, 3.70172403, 3.47883814, 2.75772385, 2.84120869,\n        3.09858788, 3.36354617, 2.83680433, 2.27167709, 2.94198484,\n        2.83469978, 2.89729233, 3.14417125, 1.98070867, 2.84637679,\n        5.00100578, 3.96788669, 5.0737143 , 4.44240552, 4.80442242,\n        5.86902265, 3.3543555 , 5.41363434, 4.84027218, 5.37446935,\n        4.10994949, 4.30063354, 4.62398582, 3.96642645, 4.16909305,\n        4.36869967, 4.40221272, 5.97486308, 6.28851945, 3.96080734,\n        4.87675269, 3.77682152, 5.99790003, 3.90136294, 4.70943275,\n        5.07498757, 3.75917156, 3.76250459, 4.60329608, 4.87974905,\n        5.33857292, 5.76459043, 4.64323883, 3.93788888, 4.33937033,\n        5.57965634, 4.60909089, 4.35110386, 3.64919537, 4.56813209,\n        4.77532814, 4.41823775, 3.96788669, 5.00285647, 4.87607268,\n        4.42903091, 4.08053315, 4.22521843, 4.36722828, 3.87870762],\n       [1.72628785, 1.76369605, 1.90874559, 1.77122775, 1.76467327,\n        1.53265904, 1.86058264, 1.63667032, 1.9770012 , 1.66958191,\n        1.64928219, 1.60353102, 1.80429702, 2.27877023, 2.07258769,\n        1.98977429, 1.89941353, 1.72158582, 1.52116723, 1.70153629,\n        1.39094132, 1.67142566, 2.25552826, 1.41657606, 1.33314131,\n        1.54680566, 1.53674453, 1.61453886, 1.69884306, 1.63378816,\n        1.59851861, 1.58482104, 1.82621131, 1.94497088, 1.65870182,\n        1.91886314, 1.8028155 , 1.79970435, 2.0490402 , 1.61556112,\n        1.83771373, 2.19003464, 2.03697465, 1.57305745, 1.34174727,\n        1.78971052, 1.61454506, 1.85668515, 1.65190307, 1.72569457,\n        2.52400114, 2.10134379, 2.64354076, 1.63131779, 2.25851981,\n        1.80200825, 2.25478862, 1.19158287, 2.19773377, 1.46185627,\n        1.51011713, 1.71529932, 1.64961321, 2.09580527, 1.16763596,\n        2.15063566, 1.8692677 , 1.39305267, 2.25819613, 1.35659564,\n        2.32297734, 1.57354242, 2.45929253, 2.01977072, 1.88716288,\n        2.09965134, 2.50635268, 2.70982578, 1.96829971, 1.05450924,\n        1.34474375, 1.23662029, 1.370232  , 2.52174538, 1.85781208,\n        2.01115433, 2.39478094, 2.09123259, 1.44406154, 1.52705525,\n        1.70725855, 2.0056001 , 1.47224446, 1.22713803, 1.58889324,\n        1.4724781 , 1.5513316 , 1.78848756, 1.09806636, 1.50531118,\n        3.75463683, 2.64723776, 3.7525407 , 3.07702937, 3.49312807,\n        4.52609409, 2.16230242, 4.03841748, 3.43842082, 4.15581493,\n        2.84918264, 2.95069343, 3.32358929, 2.66726259, 2.95502246,\n        3.13823099, 3.05300471, 4.72215859, 4.9222968 , 2.54820402,\n        3.6119947 , 2.51866507, 4.63008701, 2.56713532, 3.42659944,\n        3.73999515, 2.44312663, 2.45836078, 3.27192172, 3.51548741,\n        3.9784376 , 4.5241516 , 3.32704971, 2.54456396, 2.90072607,\n        4.29043841, 3.39375717, 3.01244747, 2.35730179, 3.29053578,\n        3.51950703, 3.2045667 , 2.64723776, 3.72099365, 3.64921029,\n        3.18692952, 2.74200469, 2.92958354, 3.15781819, 2.56348937],\n       [3.97756111, 3.98064246, 4.15539702, 3.99945376, 4.02374084,\n        3.70979061, 4.11871319, 3.89513958, 4.16248872, 3.8998044 ,\n        3.85338739, 3.86687605, 4.02059975, 4.48578247, 4.16095162,\n        4.02019109, 4.08580498, 3.97278245, 3.63422734, 3.94252868,\n        3.60272402, 3.91634503, 4.52201397, 3.65554515, 3.59225394,\n        3.76007585, 3.79385218, 3.85700173, 3.93592357, 3.87799979,\n        3.83267327, 3.78804229, 4.01511474, 4.0729108 , 3.89236206,\n        4.15511617, 3.98709699, 4.06081253, 4.25639617, 3.86657424,\n        4.0948175 , 4.23824567, 4.26994993, 3.8138055 , 3.5713141 ,\n        4.00864545, 3.85469978, 4.09953978, 3.87431418, 3.97581996,\n        1.41289645, 1.33199413, 1.3515141 , 1.67023004, 1.24841915,\n        1.17943901, 1.34910577, 2.35402217, 1.12276461, 1.85762385,\n        2.2545395 , 1.46821877, 1.43780471, 1.07162231, 1.87240497,\n        1.3718908 , 1.38288552, 1.25968662, 1.39277434, 1.56279057,\n        1.48336454, 1.44854492, 1.14463722, 0.89251127, 1.24598329,\n        1.3175805 , 1.21068839, 1.39407402, 1.26401201, 1.82691772,\n        1.70266332, 1.74924794, 1.52199027, 1.17783121, 1.4750608 ,\n        1.46923258, 1.30982837, 1.26676137, 1.48983636, 1.62025688,\n        1.28052738, 1.13091572, 1.4511576 , 2.32205133, 1.41189673,\n        1.32403715, 1.37379051, 1.22307251, 2.51718501, 1.44302889,\n        2.28069647, 1.50888779, 2.05408967, 1.43793198, 1.91164912,\n        2.63268045, 1.92600373, 2.10968964, 1.62604685, 2.61278862,\n        1.64488552, 1.49024104, 1.82090317, 1.66364551, 1.99363095,\n        1.92035423, 1.45423945, 2.96828913, 2.98223681, 1.24466155,\n        2.10901028, 1.6779727 , 2.67748097, 1.39706205, 1.8907994 ,\n        1.94532629, 1.40857885, 1.39948575, 1.73325543, 1.69420848,\n        2.13282169, 2.823426  , 1.82925733, 1.07140673, 1.07689478,\n        2.59757124, 2.09728548, 1.45062413, 1.42936712, 1.85595484,\n        2.09961815, 2.02411125, 1.50888779, 2.13635493, 2.25014541,\n        1.94675689, 1.50844701, 1.60849942, 1.96569132, 1.39870096]])"
     },
     "execution_count": 218,
     "metadata": {},
     "output_type": "execute_result"
    }
   ],
   "source": [
    "all_clusters_dists = np.array(result[max_key][2])\n",
    "print(\"distance of each datapoint from centroids:\")\n",
    "all_clusters_dists"
   ],
   "metadata": {
    "collapsed": false
   }
  },
  {
   "cell_type": "code",
   "execution_count": 219,
   "outputs": [
    {
     "name": "stdout",
     "output_type": "stream",
     "text": [
      "clusters are:\n"
     ]
    },
    {
     "data": {
      "text/plain": "[(array([ 0,  1,  2,  3,  4,  5,  6,  7,  8,  9, 10, 11, 12, 13, 14, 15, 16,\n         17, 18, 19, 20, 21, 22, 23, 24, 25, 26, 27, 28, 29, 30, 31, 32, 33,\n         34, 35, 36, 37, 38, 39, 40, 41, 42, 43, 44, 45, 46, 47, 48, 49],\n        dtype=int64),),\n (array([53, 57, 59, 60, 64, 69, 79, 80, 81, 82, 88, 89, 93, 98],\n        dtype=int64),),\n (array([ 50,  51,  52,  54,  55,  56,  58,  61,  62,  63,  65,  66,  67,\n          68,  70,  71,  72,  73,  74,  75,  76,  77,  78,  83,  84,  85,\n          86,  87,  90,  91,  92,  94,  95,  96,  97,  99, 100, 101, 102,\n         103, 104, 105, 106, 107, 108, 109, 110, 111, 112, 113, 114, 115,\n         116, 117, 118, 119, 120, 121, 122, 123, 124, 125, 126, 127, 128,\n         129, 130, 131, 132, 133, 134, 135, 136, 137, 138, 139, 140, 141,\n         142, 143, 144, 145, 146, 147, 148, 149], dtype=int64),)]"
     },
     "execution_count": 219,
     "metadata": {},
     "output_type": "execute_result"
    }
   ],
   "source": [
    "clusters = result[max_key][3]\n",
    "print(\"clusters are:\")\n",
    "clusters"
   ],
   "metadata": {
    "collapsed": false
   }
  },
  {
   "cell_type": "code",
   "execution_count": 220,
   "outputs": [
    {
     "name": "stdout",
     "output_type": "stream",
     "text": [
      "sum of all distance of each datapoint from its centroid in each cluster:\n"
     ]
    },
    {
     "data": {
      "text/plain": "array([ 33.57540568,  18.62153214, 141.14810764])"
     },
     "execution_count": 220,
     "metadata": {},
     "output_type": "execute_result"
    }
   ],
   "source": [
    "clusters_sum_dist = np.array(result[max_key][4])\n",
    "print(\"sum of all distance of each datapoint from its centroid in each cluster:\")\n",
    "clusters_sum_dist"
   ],
   "metadata": {
    "collapsed": false
   }
  },
  {
   "cell_type": "code",
   "execution_count": 221,
   "outputs": [
    {
     "data": {
      "text/plain": "['Setosa',\n 'Setosa',\n 'Setosa',\n 'Setosa',\n 'Setosa',\n 'Setosa',\n 'Setosa',\n 'Setosa',\n 'Setosa',\n 'Setosa',\n 'Setosa',\n 'Setosa',\n 'Setosa',\n 'Setosa',\n 'Setosa',\n 'Setosa',\n 'Setosa',\n 'Setosa',\n 'Setosa',\n 'Setosa',\n 'Setosa',\n 'Setosa',\n 'Setosa',\n 'Setosa',\n 'Setosa',\n 'Setosa',\n 'Setosa',\n 'Setosa',\n 'Setosa',\n 'Setosa',\n 'Setosa',\n 'Setosa',\n 'Setosa',\n 'Setosa',\n 'Setosa',\n 'Setosa',\n 'Setosa',\n 'Setosa',\n 'Setosa',\n 'Setosa',\n 'Setosa',\n 'Setosa',\n 'Setosa',\n 'Setosa',\n 'Setosa',\n 'Setosa',\n 'Setosa',\n 'Setosa',\n 'Setosa',\n 'Setosa',\n 'Virginica',\n 'Virginica',\n 'Virginica',\n 'Versicolor',\n 'Virginica',\n 'Virginica',\n 'Virginica',\n 'Versicolor',\n 'Virginica',\n 'Versicolor',\n 'Versicolor',\n 'Virginica',\n 'Virginica',\n 'Virginica',\n 'Versicolor',\n 'Virginica',\n 'Virginica',\n 'Virginica',\n 'Virginica',\n 'Versicolor',\n 'Virginica',\n 'Virginica',\n 'Virginica',\n 'Virginica',\n 'Virginica',\n 'Virginica',\n 'Virginica',\n 'Virginica',\n 'Virginica',\n 'Versicolor',\n 'Versicolor',\n 'Versicolor',\n 'Versicolor',\n 'Virginica',\n 'Virginica',\n 'Virginica',\n 'Virginica',\n 'Virginica',\n 'Versicolor',\n 'Versicolor',\n 'Virginica',\n 'Virginica',\n 'Virginica',\n 'Versicolor',\n 'Virginica',\n 'Virginica',\n 'Virginica',\n 'Virginica',\n 'Versicolor',\n 'Virginica',\n 'Virginica',\n 'Virginica',\n 'Virginica',\n 'Virginica',\n 'Virginica',\n 'Virginica',\n 'Virginica',\n 'Virginica',\n 'Virginica',\n 'Virginica',\n 'Virginica',\n 'Virginica',\n 'Virginica',\n 'Virginica',\n 'Virginica',\n 'Virginica',\n 'Virginica',\n 'Virginica',\n 'Virginica',\n 'Virginica',\n 'Virginica',\n 'Virginica',\n 'Virginica',\n 'Virginica',\n 'Virginica',\n 'Virginica',\n 'Virginica',\n 'Virginica',\n 'Virginica',\n 'Virginica',\n 'Virginica',\n 'Virginica',\n 'Virginica',\n 'Virginica',\n 'Virginica',\n 'Virginica',\n 'Virginica',\n 'Virginica',\n 'Virginica',\n 'Virginica',\n 'Virginica',\n 'Virginica',\n 'Virginica',\n 'Virginica',\n 'Virginica',\n 'Virginica',\n 'Virginica',\n 'Virginica',\n 'Virginica',\n 'Virginica']"
     },
     "execution_count": 221,
     "metadata": {},
     "output_type": "execute_result"
    }
   ],
   "source": [
    "labels_idx = [0 for i in range(150)]\n",
    "race = {0: 'Setosa', 1: 'Versicolor', 2: 'Virginica'}\n",
    "labels = [0 for i in range(150)]\n",
    "for i in range(3):\n",
    "    for elems in list(clusters[i]):\n",
    "        for e in elems:\n",
    "            labels_idx[e] = i\n",
    "            labels[e] = race[i]\n",
    "labels"
   ],
   "metadata": {
    "collapsed": false
   }
  },
  {
   "cell_type": "code",
   "execution_count": 222,
   "outputs": [
    {
     "data": {
      "text/plain": "     sepal.length  sepal.width  petal.length  petal.width    variety  \\\n0             5.1          3.5           1.4          0.2     Setosa   \n1             4.9          3.0           1.4          0.2     Setosa   \n2             4.7          3.2           1.3          0.2     Setosa   \n3             4.6          3.1           1.5          0.2     Setosa   \n4             5.0          3.6           1.4          0.2     Setosa   \n..            ...          ...           ...          ...        ...   \n145           6.7          3.0           5.2          2.3  Virginica   \n146           6.3          2.5           5.0          1.9  Virginica   \n147           6.5          3.0           5.2          2.0  Virginica   \n148           6.2          3.4           5.4          2.3  Virginica   \n149           5.9          3.0           5.1          1.8  Virginica   \n\n     cluster_number     labels  \n0                 0     Setosa  \n1                 0     Setosa  \n2                 0     Setosa  \n3                 0     Setosa  \n4                 0     Setosa  \n..              ...        ...  \n145               2  Virginica  \n146               2  Virginica  \n147               2  Virginica  \n148               2  Virginica  \n149               2  Virginica  \n\n[150 rows x 7 columns]",
      "text/html": "<div>\n<style scoped>\n    .dataframe tbody tr th:only-of-type {\n        vertical-align: middle;\n    }\n\n    .dataframe tbody tr th {\n        vertical-align: top;\n    }\n\n    .dataframe thead th {\n        text-align: right;\n    }\n</style>\n<table border=\"1\" class=\"dataframe\">\n  <thead>\n    <tr style=\"text-align: right;\">\n      <th></th>\n      <th>sepal.length</th>\n      <th>sepal.width</th>\n      <th>petal.length</th>\n      <th>petal.width</th>\n      <th>variety</th>\n      <th>cluster_number</th>\n      <th>labels</th>\n    </tr>\n  </thead>\n  <tbody>\n    <tr>\n      <th>0</th>\n      <td>5.1</td>\n      <td>3.5</td>\n      <td>1.4</td>\n      <td>0.2</td>\n      <td>Setosa</td>\n      <td>0</td>\n      <td>Setosa</td>\n    </tr>\n    <tr>\n      <th>1</th>\n      <td>4.9</td>\n      <td>3.0</td>\n      <td>1.4</td>\n      <td>0.2</td>\n      <td>Setosa</td>\n      <td>0</td>\n      <td>Setosa</td>\n    </tr>\n    <tr>\n      <th>2</th>\n      <td>4.7</td>\n      <td>3.2</td>\n      <td>1.3</td>\n      <td>0.2</td>\n      <td>Setosa</td>\n      <td>0</td>\n      <td>Setosa</td>\n    </tr>\n    <tr>\n      <th>3</th>\n      <td>4.6</td>\n      <td>3.1</td>\n      <td>1.5</td>\n      <td>0.2</td>\n      <td>Setosa</td>\n      <td>0</td>\n      <td>Setosa</td>\n    </tr>\n    <tr>\n      <th>4</th>\n      <td>5.0</td>\n      <td>3.6</td>\n      <td>1.4</td>\n      <td>0.2</td>\n      <td>Setosa</td>\n      <td>0</td>\n      <td>Setosa</td>\n    </tr>\n    <tr>\n      <th>...</th>\n      <td>...</td>\n      <td>...</td>\n      <td>...</td>\n      <td>...</td>\n      <td>...</td>\n      <td>...</td>\n      <td>...</td>\n    </tr>\n    <tr>\n      <th>145</th>\n      <td>6.7</td>\n      <td>3.0</td>\n      <td>5.2</td>\n      <td>2.3</td>\n      <td>Virginica</td>\n      <td>2</td>\n      <td>Virginica</td>\n    </tr>\n    <tr>\n      <th>146</th>\n      <td>6.3</td>\n      <td>2.5</td>\n      <td>5.0</td>\n      <td>1.9</td>\n      <td>Virginica</td>\n      <td>2</td>\n      <td>Virginica</td>\n    </tr>\n    <tr>\n      <th>147</th>\n      <td>6.5</td>\n      <td>3.0</td>\n      <td>5.2</td>\n      <td>2.0</td>\n      <td>Virginica</td>\n      <td>2</td>\n      <td>Virginica</td>\n    </tr>\n    <tr>\n      <th>148</th>\n      <td>6.2</td>\n      <td>3.4</td>\n      <td>5.4</td>\n      <td>2.3</td>\n      <td>Virginica</td>\n      <td>2</td>\n      <td>Virginica</td>\n    </tr>\n    <tr>\n      <th>149</th>\n      <td>5.9</td>\n      <td>3.0</td>\n      <td>5.1</td>\n      <td>1.8</td>\n      <td>Virginica</td>\n      <td>2</td>\n      <td>Virginica</td>\n    </tr>\n  </tbody>\n</table>\n<p>150 rows × 7 columns</p>\n</div>"
     },
     "execution_count": 222,
     "metadata": {},
     "output_type": "execute_result"
    }
   ],
   "source": [
    "df2 = new_df.assign(cluster_number=labels_idx).assign(labels=labels)\n",
    "df2"
   ],
   "metadata": {
    "collapsed": false
   }
  },
  {
   "cell_type": "code",
   "execution_count": 223,
   "outputs": [
    {
     "name": "stdout",
     "output_type": "stream",
     "text": [
      "total accuracy:  76.0\n"
     ]
    }
   ],
   "source": [
    "##total accuracy\n",
    "correct = 0\n",
    "for i in range(len(df2)):\n",
    "    if df2['labels'][i] == df2['variety'][i]:\n",
    "        correct += 1\n",
    "accuracy = correct / len(df2)\n",
    "print(\"total accuracy: \",accuracy * 100)"
   ],
   "metadata": {
    "collapsed": false
   }
  },
  {
   "cell_type": "code",
   "execution_count": 169,
   "outputs": [
    {
     "data": {
      "text/plain": "127"
     },
     "execution_count": 169,
     "metadata": {},
     "output_type": "execute_result"
    }
   ],
   "source": [
    "len(parents)"
   ],
   "metadata": {
    "collapsed": false
   }
  },
  {
   "cell_type": "code",
   "execution_count": null,
   "outputs": [],
   "source": [],
   "metadata": {
    "collapsed": false
   }
  }
 ],
 "metadata": {
  "kernelspec": {
   "display_name": "Python 3",
   "language": "python",
   "name": "python3"
  },
  "language_info": {
   "codemirror_mode": {
    "name": "ipython",
    "version": 2
   },
   "file_extension": ".py",
   "mimetype": "text/x-python",
   "name": "python",
   "nbconvert_exporter": "python",
   "pygments_lexer": "ipython2",
   "version": "2.7.6"
  }
 },
 "nbformat": 4,
 "nbformat_minor": 0
}
